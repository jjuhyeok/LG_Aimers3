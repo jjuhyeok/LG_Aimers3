{
 "cells": [
  {
   "cell_type": "markdown",
   "id": "protected-reynolds",
   "metadata": {
    "id": "protected-reynolds"
   },
   "source": [
    "- 개발 환경(OS): Windows 10 Education, 64비트 운영 체제, x64 기반 프로세서\n",
    "![image.png](attachment:image.png)"
   ]
  },
  {
   "cell_type": "markdown",
   "id": "e65d7cb9-40e9-49cc-8e97-4b78a8bfe7fe",
   "metadata": {
    "id": "e65d7cb9-40e9-49cc-8e97-4b78a8bfe7fe"
   },
   "source": [
    "## Library version check"
   ]
  },
  {
   "cell_type": "code",
   "execution_count": 1,
   "id": "_RPFzvZPye2N",
   "metadata": {
    "colab": {
     "base_uri": "https://localhost:8080/"
    },
    "execution": {
     "iopub.execute_input": "2023-08-06T13:22:40.538232Z",
     "iopub.status.busy": "2023-08-06T13:22:40.537429Z",
     "iopub.status.idle": "2023-08-06T13:22:45.567713Z",
     "shell.execute_reply": "2023-08-06T13:22:45.566828Z",
     "shell.execute_reply.started": "2023-08-06T13:22:40.538230Z"
    },
    "id": "_RPFzvZPye2N",
    "outputId": "c3e64783-36ba-4a03-eb92-280f8ed55b36"
   },
   "outputs": [
    {
     "name": "stdout",
     "output_type": "stream",
     "text": [
      "Requirement already satisfied: optuna in /usr/local/lib/python3.9/dist-packages (2.10.1)\n",
      "Collecting sktime\n",
      "  Downloading sktime-0.21.0-py3-none-any.whl (17.1 MB)\n",
      "\u001b[2K     \u001b[90m━━━━━━━━━━━━━━━━━━━━━━━━━━━━━━━━━━━━━━━━\u001b[0m \u001b[32m17.1/17.1 MB\u001b[0m \u001b[31m69.4 MB/s\u001b[0m eta \u001b[36m0:00:00\u001b[0m00:01\u001b[0m00:01\u001b[0m\n",
      "\u001b[?25hRequirement already satisfied: numpy in /usr/local/lib/python3.9/dist-packages (from optuna) (1.23.4)\n",
      "Requirement already satisfied: sqlalchemy>=1.1.0 in /usr/local/lib/python3.9/dist-packages (from optuna) (1.4.41)\n",
      "Requirement already satisfied: cliff in /usr/local/lib/python3.9/dist-packages (from optuna) (4.3.0)\n",
      "Requirement already satisfied: packaging>=20.0 in /usr/local/lib/python3.9/dist-packages (from optuna) (23.0)\n",
      "Requirement already satisfied: PyYAML in /usr/local/lib/python3.9/dist-packages (from optuna) (5.4.1)\n",
      "Requirement already satisfied: tqdm in /usr/local/lib/python3.9/dist-packages (from optuna) (4.64.1)\n",
      "Requirement already satisfied: cmaes>=0.8.2 in /usr/local/lib/python3.9/dist-packages (from optuna) (0.10.0)\n",
      "Requirement already satisfied: scipy!=1.4.0 in /usr/local/lib/python3.9/dist-packages (from optuna) (1.11.1)\n",
      "Requirement already satisfied: alembic in /usr/local/lib/python3.9/dist-packages (from optuna) (1.11.2)\n",
      "Requirement already satisfied: colorlog in /usr/local/lib/python3.9/dist-packages (from optuna) (6.7.0)\n",
      "Collecting deprecated>=1.2.13\n",
      "  Downloading Deprecated-1.2.14-py2.py3-none-any.whl (9.6 kB)\n",
      "Collecting scikit-base<0.6.0\n",
      "  Downloading scikit_base-0.5.0-py3-none-any.whl (118 kB)\n",
      "\u001b[2K     \u001b[90m━━━━━━━━━━━━━━━━━━━━━━━━━━━━━━━━━━━━━━\u001b[0m \u001b[32m118.2/118.2 kB\u001b[0m \u001b[31m32.2 MB/s\u001b[0m eta \u001b[36m0:00:00\u001b[0m\n",
      "\u001b[?25hRequirement already satisfied: scikit-learn<1.4.0,>=0.24.0 in /usr/local/lib/python3.9/dist-packages (from sktime) (1.1.2)\n",
      "Requirement already satisfied: pandas<2.1.0,>=1.1.0 in /usr/local/lib/python3.9/dist-packages (from sktime) (1.5.0)\n",
      "Requirement already satisfied: wrapt<2,>=1.10 in /usr/local/lib/python3.9/dist-packages (from deprecated>=1.2.13->sktime) (1.14.1)\n",
      "Requirement already satisfied: pytz>=2020.1 in /usr/local/lib/python3.9/dist-packages (from pandas<2.1.0,>=1.1.0->sktime) (2022.7.1)\n",
      "Requirement already satisfied: python-dateutil>=2.8.1 in /usr/local/lib/python3.9/dist-packages (from pandas<2.1.0,>=1.1.0->sktime) (2.8.2)\n",
      "Requirement already satisfied: threadpoolctl>=2.0.0 in /usr/local/lib/python3.9/dist-packages (from scikit-learn<1.4.0,>=0.24.0->sktime) (3.1.0)\n",
      "Requirement already satisfied: joblib>=1.0.0 in /usr/local/lib/python3.9/dist-packages (from scikit-learn<1.4.0,>=0.24.0->sktime) (1.2.0)\n",
      "Requirement already satisfied: greenlet!=0.4.17 in /usr/local/lib/python3.9/dist-packages (from sqlalchemy>=1.1.0->optuna) (2.0.1)\n",
      "Requirement already satisfied: Mako in /usr/local/lib/python3.9/dist-packages (from alembic->optuna) (1.2.4)\n",
      "Requirement already satisfied: typing-extensions>=4 in /usr/local/lib/python3.9/dist-packages (from alembic->optuna) (4.4.0)\n",
      "Requirement already satisfied: importlib-metadata>=4.4 in /usr/local/lib/python3.9/dist-packages (from cliff->optuna) (6.0.0)\n",
      "Requirement already satisfied: PrettyTable>=0.7.2 in /usr/local/lib/python3.9/dist-packages (from cliff->optuna) (3.8.0)\n",
      "Requirement already satisfied: stevedore>=2.0.1 in /usr/local/lib/python3.9/dist-packages (from cliff->optuna) (5.1.0)\n",
      "Requirement already satisfied: cmd2>=1.0.0 in /usr/local/lib/python3.9/dist-packages (from cliff->optuna) (2.4.3)\n",
      "Requirement already satisfied: autopage>=0.4.0 in /usr/local/lib/python3.9/dist-packages (from cliff->optuna) (0.5.1)\n",
      "Requirement already satisfied: pyperclip>=1.6 in /usr/local/lib/python3.9/dist-packages (from cmd2>=1.0.0->cliff->optuna) (1.8.2)\n",
      "Requirement already satisfied: wcwidth>=0.1.7 in /usr/local/lib/python3.9/dist-packages (from cmd2>=1.0.0->cliff->optuna) (0.2.6)\n",
      "Requirement already satisfied: attrs>=16.3.0 in /usr/local/lib/python3.9/dist-packages (from cmd2>=1.0.0->cliff->optuna) (18.2.0)\n",
      "Requirement already satisfied: zipp>=0.5 in /usr/local/lib/python3.9/dist-packages (from importlib-metadata>=4.4->cliff->optuna) (3.11.0)\n",
      "Requirement already satisfied: six>=1.5 in /usr/lib/python3/dist-packages (from python-dateutil>=2.8.1->pandas<2.1.0,>=1.1.0->sktime) (1.14.0)\n",
      "Requirement already satisfied: pbr!=2.1.0,>=2.0.0 in /usr/local/lib/python3.9/dist-packages (from stevedore>=2.0.1->cliff->optuna) (5.11.1)\n",
      "Requirement already satisfied: MarkupSafe>=0.9.2 in /usr/local/lib/python3.9/dist-packages (from Mako->alembic->optuna) (2.1.2)\n",
      "Installing collected packages: scikit-base, deprecated, sktime\n",
      "Successfully installed deprecated-1.2.14 scikit-base-0.5.0 sktime-0.21.0\n",
      "\u001b[33mWARNING: Running pip as the 'root' user can result in broken permissions and conflicting behaviour with the system package manager. It is recommended to use a virtual environment instead: https://pip.pypa.io/warnings/venv\u001b[0m\u001b[33m\n",
      "\u001b[0m"
     ]
    }
   ],
   "source": [
    "!pip install optuna sktime"
   ]
  },
  {
   "cell_type": "code",
   "execution_count": 2,
   "id": "civilian-stations",
   "metadata": {
    "colab": {
     "base_uri": "https://localhost:8080/"
    },
    "execution": {
     "iopub.execute_input": "2023-08-06T13:22:45.569782Z",
     "iopub.status.busy": "2023-08-06T13:22:45.569502Z",
     "iopub.status.idle": "2023-08-06T13:22:46.934273Z",
     "shell.execute_reply": "2023-08-06T13:22:46.933575Z",
     "shell.execute_reply.started": "2023-08-06T13:22:45.569729Z"
    },
    "id": "civilian-stations",
    "outputId": "a6b980cb-beca-4521-fae0-b4924b5af7bd"
   },
   "outputs": [
    {
     "name": "stdout",
     "output_type": "stream",
     "text": [
      "-------------------------- Python & library version --------------------------\n",
      "Python version: 3.9.16 (main, Dec  7 2022, 01:11:51) \n",
      "[GCC 9.4.0]\n",
      "pandas version: 1.5.0\n",
      "numpy version: 1.23.4\n",
      "matplotlib version: 3.6.1\n",
      "tqdm version: 4.64.1\n",
      "sktime version: 0.21.0\n",
      "xgboost version: 1.6.2\n",
      "seaborn version: 0.12.0\n",
      "scikit-learn version: 1.1.2\n",
      "------------------------------------------------------------------------------\n"
     ]
    }
   ],
   "source": [
    "import sys\n",
    "import sktime\n",
    "import tqdm as tq\n",
    "import xgboost as xgb\n",
    "import matplotlib\n",
    "import optuna\n",
    "import seaborn as sns\n",
    "import sklearn as skl\n",
    "import pandas as pd\n",
    "import numpy as np\n",
    "print(\"-------------------------- Python & library version --------------------------\")\n",
    "print(\"Python version: {}\".format(sys.version))\n",
    "print(\"pandas version: {}\".format(pd.__version__))\n",
    "print(\"numpy version: {}\".format(np.__version__))\n",
    "print(\"matplotlib version: {}\".format(matplotlib.__version__))\n",
    "print(\"tqdm version: {}\".format(tq.__version__))\n",
    "print(\"sktime version: {}\".format(sktime.__version__))\n",
    "print(\"xgboost version: {}\".format(xgb.__version__))\n",
    "print(\"seaborn version: {}\".format(sns.__version__))\n",
    "print(\"scikit-learn version: {}\".format(skl.__version__))\n",
    "print(\"------------------------------------------------------------------------------\")"
   ]
  },
  {
   "cell_type": "markdown",
   "id": "4156dcef-65d2-46a5-8bf6-1ddaa9f00f84",
   "metadata": {
    "id": "4156dcef-65d2-46a5-8bf6-1ddaa9f00f84"
   },
   "source": [
    "## 0. load the libararies"
   ]
  },
  {
   "cell_type": "code",
   "execution_count": 3,
   "id": "d6b5e25e-f9a1-4980-ac53-6cdb73b3d0d4",
   "metadata": {
    "execution": {
     "iopub.execute_input": "2023-08-06T13:22:46.935500Z",
     "iopub.status.busy": "2023-08-06T13:22:46.935201Z",
     "iopub.status.idle": "2023-08-06T13:22:46.991468Z",
     "shell.execute_reply": "2023-08-06T13:22:46.990863Z",
     "shell.execute_reply.started": "2023-08-06T13:22:46.935490Z"
    },
    "id": "d6b5e25e-f9a1-4980-ac53-6cdb73b3d0d4"
   },
   "outputs": [],
   "source": [
    "import matplotlib.pyplot as plt\n",
    "from tqdm import tqdm\n",
    "from sktime.forecasting.model_selection import temporal_train_test_split\n",
    "from sktime.utils.plotting import plot_series\n",
    "from sklearn.preprocessing import LabelEncoder\n",
    "from xgboost import XGBRegressor\n",
    "import warnings\n",
    "warnings.filterwarnings(action='ignore')\n",
    "pd.set_option('display.max_columns', 30)"
   ]
  },
  {
   "cell_type": "markdown",
   "id": "2b3b09e2-4ff2-426a-a11d-7512ef73265b",
   "metadata": {
    "id": "2b3b09e2-4ff2-426a-a11d-7512ef73265b"
   },
   "source": [
    "## 1. preprocessing the data"
   ]
  },
  {
   "cell_type": "markdown",
   "id": "3c35b47b-bb3f-4613-83b3-df0fd1d3f002",
   "metadata": {
    "id": "3c35b47b-bb3f-4613-83b3-df0fd1d3f002"
   },
   "source": [
    "#####  - time series를 일반 regression 문제로 변환하기 위해 시간 관련 변수 추가(월 / 주 / 요일)\n",
    "#####  - 전력소비량의 건물별 요일별 시간대별 평균 / 건물별 시간대별 평균 / 건물별 시간대별 표준편차 변수 추가\n",
    "###### 건물별 요일별 시간대별 표준편차 / 건물별 평균 등 여러 통계량 생성 후 몇개 건물에 테스트, 최종적으로 성능 향상에 도움이 된 위 3개 변수만 추가\n",
    "#####  - 공휴일 변수 추가\n",
    "#####  - 시간(hour)는 cyclical encoding하여 변수 추가(sin time & cos time) 후 삭제\n",
    "#####  - CDH(Cooling Degree Hour) & THI(불쾌지수) 변수 추가\n",
    "##### - 건물별 모델 생성 시 무의미한 태양광 발전 시설 / 냉방시설 변수 삭제"
   ]
  },
  {
   "cell_type": "code",
   "execution_count": 4,
   "id": "g_nzYbg2Gx0j",
   "metadata": {
    "execution": {
     "iopub.execute_input": "2023-08-06T13:22:46.993638Z",
     "iopub.status.busy": "2023-08-06T13:22:46.993038Z",
     "iopub.status.idle": "2023-08-06T13:22:46.996568Z",
     "shell.execute_reply": "2023-08-06T13:22:46.995977Z",
     "shell.execute_reply.started": "2023-08-06T13:22:46.993618Z"
    },
    "id": "g_nzYbg2Gx0j"
   },
   "outputs": [],
   "source": [
    "# ['datetime', 'product', 'target', 'large', 'mid', 'small', 'brand', 'sale', 'brand_count', 'index', 'product_feature']"
   ]
  },
  {
   "cell_type": "code",
   "execution_count": 5,
   "id": "vlyxX58HBWyT",
   "metadata": {
    "execution": {
     "iopub.execute_input": "2023-08-06T13:22:46.997295Z",
     "iopub.status.busy": "2023-08-06T13:22:46.997142Z",
     "iopub.status.idle": "2023-08-06T13:22:47.000860Z",
     "shell.execute_reply": "2023-08-06T13:22:47.000268Z",
     "shell.execute_reply.started": "2023-08-06T13:22:46.997282Z"
    },
    "id": "vlyxX58HBWyT"
   },
   "outputs": [],
   "source": [
    "path = ''"
   ]
  },
  {
   "cell_type": "code",
   "execution_count": 6,
   "id": "ayRotI0pBSGX",
   "metadata": {
    "execution": {
     "iopub.execute_input": "2023-08-06T13:22:47.001835Z",
     "iopub.status.busy": "2023-08-06T13:22:47.001682Z",
     "iopub.status.idle": "2023-08-06T13:22:48.485459Z",
     "shell.execute_reply": "2023-08-06T13:22:48.484822Z",
     "shell.execute_reply.started": "2023-08-06T13:22:47.001822Z"
    },
    "id": "ayRotI0pBSGX"
   },
   "outputs": [],
   "source": [
    "train = pd.read_parquet(path + 'df_all2.parquet')\n",
    "test = pd.read_parquet(path + 'test_all2.parquet')"
   ]
  },
  {
   "cell_type": "code",
   "execution_count": 7,
   "id": "ZuG9mGTdBR-n",
   "metadata": {
    "execution": {
     "iopub.execute_input": "2023-08-06T13:22:48.486401Z",
     "iopub.status.busy": "2023-08-06T13:22:48.486218Z",
     "iopub.status.idle": "2023-08-06T13:22:49.531898Z",
     "shell.execute_reply": "2023-08-06T13:22:49.531189Z",
     "shell.execute_reply.started": "2023-08-06T13:22:48.486384Z"
    },
    "id": "ZuG9mGTdBR-n"
   },
   "outputs": [],
   "source": [
    "train.drop(columns=['sale', 'brand_count'], inplace=True)\n",
    "train['brand'] = train['brand'].astype('object')\n",
    "test['brand'] = test['brand'].astype('object')"
   ]
  },
  {
   "cell_type": "code",
   "execution_count": 8,
   "id": "102IjKz_BR8J",
   "metadata": {
    "execution": {
     "iopub.execute_input": "2023-08-06T13:22:49.533265Z",
     "iopub.status.busy": "2023-08-06T13:22:49.533080Z",
     "iopub.status.idle": "2023-08-06T13:22:49.538888Z",
     "shell.execute_reply": "2023-08-06T13:22:49.538218Z",
     "shell.execute_reply.started": "2023-08-06T13:22:49.533248Z"
    },
    "id": "102IjKz_BR8J"
   },
   "outputs": [],
   "source": [
    "def process(df):\n",
    "    date = pd.to_datetime(df.datetime)\n",
    "    df['day'] = date.dt.day\n",
    "    df['dow'] = date.dt.weekday\n",
    "    df['month'] = date.dt.month\n",
    "    df['week'] = date.dt.weekofyear\n",
    "    df['date'] = date.dt.date.astype('str')\n",
    "\n",
    "    ### 공휴일 변수 추가\n",
    "    df['holiday'] = df.apply(lambda x : 0 if x['day']<5 else 1, axis = 1)\n",
    "    special_days = ['2020-01-01', '2020-06-06', '2020-08-15', '2020-08-17', '2020-01-24', '2020-01-25', '2020-01-26', '2020-01-27', '2020-03-01', '2020-04-15', '2020-04-30', '2020-05-05', '2020-09-30', '2020-10-01', '2020-10-02', '2020-10-03', '2020-10-09', '2020-12-25',\n",
    "                    '2021-01-01', '2021-02-11', '2021-02-12', '2021-02-13', '2021-03-01', '2021-05-05', '2021-05-19', '2021-06-06', '2021-08-15', '2021-09-20', '2021-09-21', '2021-09-22', '2021-10-03', '2021-10-09', '2021-12-25',\n",
    "                    '2022-01-01', '2022-01-31', '2022-02-01', '2022-02-02', '2022-03-01', '2022-05-05', '2022-05-08', '2022-06-06', '2022-08-15', '2022-09-09', '2022-09-10', '2022-09-11', '2022-09-12', '2022-10-03', '2022-10-09',  '2022-10-10', '2022-12-25',\n",
    "                    '2023-01-01', '2023-01-21', '2023-01-22', '2023-01-23', '2023-01-24', '2023-03-01', '2023-05-05', '2023-05-27'\n",
    "                   ]\n",
    "    df.loc[df.date.isin(special_days), 'holiday'] = 1\n",
    "    df['holiday'] = df.apply(lambda x : 0 if x['dow']<5 else 1, axis = 1)\n",
    "\n",
    "    df.drop(columns=['date', 'datetime'], inplace=True)\n",
    "    return df"
   ]
  },
  {
   "cell_type": "code",
   "execution_count": 9,
   "id": "HdmSOal1BaQR",
   "metadata": {
    "execution": {
     "iopub.execute_input": "2023-08-06T13:22:49.539826Z",
     "iopub.status.busy": "2023-08-06T13:22:49.539654Z",
     "iopub.status.idle": "2023-08-06T13:23:59.573162Z",
     "shell.execute_reply": "2023-08-06T13:23:59.572667Z",
     "shell.execute_reply.started": "2023-08-06T13:22:49.539810Z"
    },
    "id": "HdmSOal1BaQR"
   },
   "outputs": [],
   "source": [
    "train = process(train)\n",
    "test = process(test)"
   ]
  },
  {
   "cell_type": "code",
   "execution_count": 10,
   "id": "DtL7HWnoENka",
   "metadata": {
    "colab": {
     "base_uri": "https://localhost:8080/"
    },
    "execution": {
     "iopub.execute_input": "2023-08-06T13:23:59.575027Z",
     "iopub.status.busy": "2023-08-06T13:23:59.574624Z",
     "iopub.status.idle": "2023-08-06T13:23:59.579958Z",
     "shell.execute_reply": "2023-08-06T13:23:59.579587Z",
     "shell.execute_reply.started": "2023-08-06T13:23:59.575003Z"
    },
    "id": "DtL7HWnoENka",
    "outputId": "aa7a56f4-56f3-4799-b08c-3b914cda37fb"
   },
   "outputs": [
    {
     "data": {
      "text/plain": [
       "Index(['target', 'product', 'large', 'mid', 'small', 'brand', 'day', 'dow',\n",
       "       'month', 'week', 'holiday'],\n",
       "      dtype='object')"
      ]
     },
     "execution_count": 10,
     "metadata": {},
     "output_type": "execute_result"
    }
   ],
   "source": [
    "train.columns"
   ]
  },
  {
   "cell_type": "code",
   "execution_count": 11,
   "id": "_FVyMF-hEPA5",
   "metadata": {
    "execution": {
     "iopub.execute_input": "2023-08-06T13:23:59.580922Z",
     "iopub.status.busy": "2023-08-06T13:23:59.580581Z",
     "iopub.status.idle": "2023-08-06T13:24:03.795130Z",
     "shell.execute_reply": "2023-08-06T13:24:03.794634Z",
     "shell.execute_reply.started": "2023-08-06T13:23:59.580905Z"
    },
    "id": "_FVyMF-hEPA5"
   },
   "outputs": [],
   "source": [
    "cat_col = ['product', 'large', 'mid', 'small', 'brand', 'day', 'dow',\n",
    "       'month', 'week', 'holiday']\n",
    "\n",
    "for i in cat_col:\n",
    "    train[i] = train[i].astype('category')\n",
    "    test[i] = test[i].astype('category')"
   ]
  },
  {
   "cell_type": "markdown",
   "id": "3df484e4-b503-4b74-9395-736aca467ac3",
   "metadata": {
    "id": "3df484e4-b503-4b74-9395-736aca467ac3"
   },
   "source": [
    "#### 모델은 시계열 데이터에 좋은 성능을 보이는 XGBoost를 선정했습니다."
   ]
  },
  {
   "cell_type": "code",
   "execution_count": 12,
   "id": "personal-dividend",
   "metadata": {
    "execution": {
     "iopub.execute_input": "2023-08-06T13:24:03.796448Z",
     "iopub.status.busy": "2023-08-06T13:24:03.795827Z",
     "iopub.status.idle": "2023-08-06T13:24:03.799060Z",
     "shell.execute_reply": "2023-08-06T13:24:03.798633Z",
     "shell.execute_reply.started": "2023-08-06T13:24:03.796428Z"
    },
    "id": "personal-dividend"
   },
   "outputs": [],
   "source": [
    "# Define SMAPE loss function\n",
    "def SMAPE(true, pred):\n",
    "    return np.mean((np.abs(true-pred))/(np.abs(true) + np.abs(pred))) * 100"
   ]
  },
  {
   "cell_type": "markdown",
   "id": "65706ee4-6fd9-4b3b-93ff-3ef8981e8096",
   "metadata": {
    "id": "65706ee4-6fd9-4b3b-93ff-3ef8981e8096"
   },
   "source": [
    "#### 아래와 같이 평가 Metric인 SMAPE는 실제값보다 작게 추정할 때 더 좋지 않습니다.\n",
    "#### 이는 전력사용량을 높게 예측하는 것보다 작게 예측할 때 실제로 더 큰 문제가 될 수 있음을 반영한 것으로 보입니다."
   ]
  },
  {
   "cell_type": "code",
   "execution_count": 13,
   "id": "6fa7e95e-ce71-46f0-bc2a-fea9cc8f4997",
   "metadata": {
    "colab": {
     "base_uri": "https://localhost:8080/"
    },
    "execution": {
     "iopub.execute_input": "2023-08-06T13:24:03.800171Z",
     "iopub.status.busy": "2023-08-06T13:24:03.799679Z",
     "iopub.status.idle": "2023-08-06T13:24:03.804113Z",
     "shell.execute_reply": "2023-08-06T13:24:03.803704Z",
     "shell.execute_reply.started": "2023-08-06T13:24:03.800147Z"
    },
    "id": "6fa7e95e-ce71-46f0-bc2a-fea9cc8f4997",
    "outputId": "e6dca5ed-95aa-4013-e820-cc346a758cb6"
   },
   "outputs": [
    {
     "name": "stdout",
     "output_type": "stream",
     "text": [
      "실제값이 100일 때 50으로 underestimate할 때의 SMAPE : 33.33333333333333\n",
      "실제값이 100일 때 150으로 overestimate할 때의 SMAPE : 20.0\n"
     ]
    }
   ],
   "source": [
    "print(\"실제값이 100일 때 50으로 underestimate할 때의 SMAPE : {}\".format(SMAPE(100, 50)))\n",
    "print(\"실제값이 100일 때 150으로 overestimate할 때의 SMAPE : {}\".format(SMAPE(100, 150)))"
   ]
  },
  {
   "cell_type": "markdown",
   "id": "12f36ae8-7438-4ea4-bb7a-619451151761",
   "metadata": {
    "id": "12f36ae8-7438-4ea4-bb7a-619451151761"
   },
   "source": [
    "#### 그러나 일반 mse를 objective function으로 훈련할 때 과소추정하는 건물들이 있음을 확인했습니다.\n",
    "#### 이때문에 SMAPE 점수가 높아진다고 판단, 이를 해결하기 위해 아래와 같이 objective function을 새로 정의했습니다.\n",
    "#### 새 목적함수는 residual이 0보다 클 때, 즉 실제값보다 낮게 추정할 때 alpha만큼의 가중치를 곱해 반영합니다.\n",
    "\n",
    "#### XGBoost는 custom objective function으로 훈련하기 위해선 아래와 같이\n",
    "#### gradient(1차 미분함수) / hessian(2차 미분함수)를 정의해 두 값을 return해주어야 합니다."
   ]
  },
  {
   "cell_type": "code",
   "execution_count": 14,
   "id": "c131d074-ca9f-4c1b-824b-9899c4442c9c",
   "metadata": {
    "execution": {
     "iopub.execute_input": "2023-08-06T13:24:03.805139Z",
     "iopub.status.busy": "2023-08-06T13:24:03.804704Z",
     "iopub.status.idle": "2023-08-06T13:24:03.808285Z",
     "shell.execute_reply": "2023-08-06T13:24:03.807920Z",
     "shell.execute_reply.started": "2023-08-06T13:24:03.805123Z"
    },
    "id": "c131d074-ca9f-4c1b-824b-9899c4442c9c"
   },
   "outputs": [],
   "source": [
    "#### alpha를 argument로 받는 함수로 실제 objective function을 wrapping하여 alpha값을 쉽게 조정할 수 있도록 작성했습니다.\n",
    "# custom objective function for forcing model not to underestimate\n",
    "def weighted_mse(alpha = 1):\n",
    "    def weighted_mse_fixed(label, pred):\n",
    "        residual = (label - pred).astype(\"float\")\n",
    "        grad = np.where(residual>0, -2*alpha*residual, -2*residual)\n",
    "        hess = np.where(residual>0, 2*alpha, 2.0)\n",
    "        return grad, hess\n",
    "    return weighted_mse_fixed"
   ]
  },
  {
   "cell_type": "markdown",
   "id": "veterinary-expression",
   "metadata": {
    "id": "veterinary-expression"
   },
   "source": [
    "## 3. model tuning"
   ]
  },
  {
   "cell_type": "markdown",
   "id": "4fb285a1-aac2-42a8-a6c9-9630c3eb88b7",
   "metadata": {
    "id": "4fb285a1-aac2-42a8-a6c9-9630c3eb88b7"
   },
   "source": [
    "#### 다른 parameter를 고정하지 않고 전체 parameter를 튜닝하고자 하면 매우 오래걸리기 때문에\n",
    "#### 모델 내 hyperparameter들은 아래와 같이 sklearn의 gridsearchCV를 활용해 튜닝하고,\n",
    "#### XGBoost의 early stopping 기능으로 n_estimators를 튜닝하고,\n",
    "#### weighted_mse의 alpha값을 튜닝했습니다."
   ]
  },
  {
   "cell_type": "markdown",
   "id": "0f2a9f19-60f8-4231-90c6-f84a7d4a301e",
   "metadata": {
    "id": "0f2a9f19-60f8-4231-90c6-f84a7d4a301e"
   },
   "source": [
    "#### ***참고***\n",
    "##### gridsearch 코드는 빠른 튜닝을 위해 NIPA서버를 활용해 gpu버전으로 튜닝하여 cpu버전으로 찾은 parameter와는 값이 다릅니다.\n",
    "###### (gpu와 cpu버전의 bootstrap 과정 등의 차이에 기인하는 것으로 생각됩니다.)\n",
    "##### 그러므로 gridsearchCV 코드는 제출하되 튜닝된 parameter를 csv로 첨부합니다.\n",
    "##### 이후 모든 과정은 첨부된 csv에 저장된 paramter를 사용하여 훈련, 예측합니다.  "
   ]
  },
  {
   "cell_type": "code",
   "execution_count": 15,
   "id": "lz81BfbXC1TM",
   "metadata": {
    "execution": {
     "iopub.execute_input": "2023-08-06T13:24:03.809369Z",
     "iopub.status.busy": "2023-08-06T13:24:03.808887Z",
     "iopub.status.idle": "2023-08-06T13:24:03.815801Z",
     "shell.execute_reply": "2023-08-06T13:24:03.815358Z",
     "shell.execute_reply.started": "2023-08-06T13:24:03.809369Z"
    },
    "id": "lz81BfbXC1TM"
   },
   "outputs": [],
   "source": [
    "y = train[train['product'] == i]['target']\n",
    "x = train[train['product'] == i].iloc[:, 1:]"
   ]
  },
  {
   "cell_type": "code",
   "execution_count": 16,
   "id": "ALIb-v6CFYgx",
   "metadata": {
    "colab": {
     "base_uri": "https://localhost:8080/"
    },
    "execution": {
     "iopub.execute_input": "2023-08-06T13:24:03.816925Z",
     "iopub.status.busy": "2023-08-06T13:24:03.816394Z",
     "iopub.status.idle": "2023-08-06T16:11:14.434163Z",
     "shell.execute_reply": "2023-08-06T16:11:14.433410Z",
     "shell.execute_reply.started": "2023-08-06T13:24:03.816918Z"
    },
    "id": "ALIb-v6CFYgx",
    "outputId": "a4b3c9b0-07f2-4fbe-e922-654b57b09c1b"
   },
   "outputs": [
    {
     "name": "stderr",
     "output_type": "stream",
     "text": [
      "100%|██████████| 15890/15890 [2:47:10<00:00,  1.58it/s]  \n"
     ]
    }
   ],
   "source": [
    "from sklearn.model_selection import PredefinedSplit, GridSearchCV\n",
    "preds = np.array([])\n",
    "product_unique = train['product'].unique()\n",
    "alpha = 25\n",
    "\n",
    "for i in tqdm(product_unique):\n",
    "    y = train[train['product'] == i]['target']\n",
    "    x = train[train['product'] == i].iloc[:, 2:]\n",
    "    pred_df = pd.DataFrame()\n",
    "    for seed in [42]:\n",
    "\n",
    "        y_train, y_test, x_train, x_test = temporal_train_test_split(y = y, X = x, test_size = 21)\n",
    "\n",
    "        y_train = train[train['product'] == i]['target']\n",
    "        x_train, x_test = train[train['product'] == i].iloc[:, 2:], test.loc[test['product'] == i, ].iloc[:,1:]\n",
    "        x_test = x_test[x_train.columns]\n",
    "\n",
    "        model = XGBRegressor(tree_method='gpu_hist', objective=weighted_mse(alpha), random_state=seed, enable_categorical=True)\n",
    "        model.fit(x_train, y_train)\n",
    "        y_pred = model.predict(x_test)\n",
    "        pred_df.loc[:,seed] = y_pred\n",
    "    pred = pred_df.mean(axis=1)\n",
    "    preds = np.append(preds, pred)"
   ]
  },
  {
   "cell_type": "code",
   "execution_count": 17,
   "id": "uImSmJfXGBOf",
   "metadata": {
    "execution": {
     "iopub.execute_input": "2023-08-06T16:11:14.435311Z",
     "iopub.status.busy": "2023-08-06T16:11:14.435102Z",
     "iopub.status.idle": "2023-08-06T16:11:15.506627Z",
     "shell.execute_reply": "2023-08-06T16:11:15.505672Z",
     "shell.execute_reply.started": "2023-08-06T16:11:14.435293Z"
    },
    "id": "uImSmJfXGBOf"
   },
   "outputs": [],
   "source": [
    "submission = pd.read_csv(path + 'new_sub.csv')\n",
    "submission['answer'] = preds\n",
    "submission.to_csv(path + 'xgboost_weight_mse.csv', index = False)"
   ]
  },
  {
   "cell_type": "code",
   "execution_count": 20,
   "id": "dcca426c-ed3a-4bd2-b0fe-c700b29c080b",
   "metadata": {
    "execution": {
     "iopub.execute_input": "2023-08-05T16:50:31.341006Z",
     "iopub.status.busy": "2023-08-05T16:50:31.340819Z",
     "iopub.status.idle": "2023-08-05T16:51:25.718046Z",
     "shell.execute_reply": "2023-08-05T16:51:25.717432Z",
     "shell.execute_reply.started": "2023-08-05T16:50:31.340989Z"
    },
    "id": "dcca426c-ed3a-4bd2-b0fe-c700b29c080b"
   },
   "outputs": [
    {
     "name": "stderr",
     "output_type": "stream",
     "text": [
      "  0%|          | 0/15890 [00:00<?, ?it/s][I 2023-08-05 16:50:31,383] A new study created in memory with name: no-name-efb7022b-285e-4099-abf6-7d6bfad7874c\n",
      "[I 2023-08-05 16:50:34,146] Trial 0 finished with value: 100.0 and parameters: {'lambda': 0.034697598392250735, 'alpha': 0.11038843922208386, 'colsample_bytree': 0.3, 'subsample': 0.5, 'learning_rate': 0.04343317395947322, 'n_estimators': 6910, 'max_depth': 8, 'min_child_weight': 148}. Best is trial 0 with value: 100.0.\n",
      "[I 2023-08-05 16:50:36,369] Trial 1 finished with value: 100.0 and parameters: {'lambda': 5.9014601704204495, 'alpha': 0.014077300049123567, 'colsample_bytree': 1.0, 'subsample': 0.7, 'learning_rate': 0.017670034107356028, 'n_estimators': 5678, 'max_depth': 7, 'min_child_weight': 110}. Best is trial 0 with value: 100.0.\n",
      "[I 2023-08-05 16:50:37,343] Trial 2 finished with value: 100.0 and parameters: {'lambda': 0.009807917471135588, 'alpha': 0.016806139929513554, 'colsample_bytree': 0.3, 'subsample': 0.4, 'learning_rate': 0.00878147333918939, 'n_estimators': 2344, 'max_depth': 10, 'min_child_weight': 113}. Best is trial 0 with value: 100.0.\n",
      "[I 2023-08-05 16:50:39,095] Trial 3 finished with value: 100.0 and parameters: {'lambda': 0.1852195506079057, 'alpha': 1.3239554119319341, 'colsample_bytree': 0.8, 'subsample': 0.4, 'learning_rate': 0.018807803923698605, 'n_estimators': 1366, 'max_depth': 5, 'min_child_weight': 12}. Best is trial 0 with value: 100.0.\n",
      "[I 2023-08-05 16:50:42,816] Trial 4 finished with value: 100.0 and parameters: {'lambda': 0.06078353481463792, 'alpha': 4.170173791004011, 'colsample_bytree': 0.8, 'subsample': 0.4, 'learning_rate': 0.0050032224132298365, 'n_estimators': 9076, 'max_depth': 11, 'min_child_weight': 256}. Best is trial 0 with value: 100.0.\n",
      "[I 2023-08-05 16:50:45,040] Trial 5 finished with value: 100.0 and parameters: {'lambda': 0.06389956130686567, 'alpha': 0.12540125987644213, 'colsample_bytree': 0.4, 'subsample': 0.4, 'learning_rate': 0.027448346063234423, 'n_estimators': 4811, 'max_depth': 11, 'min_child_weight': 53}. Best is trial 0 with value: 100.0.\n",
      "[I 2023-08-05 16:50:48,037] Trial 6 finished with value: 100.0 and parameters: {'lambda': 0.0240536815606079, 'alpha': 0.440131631276803, 'colsample_bytree': 0.7, 'subsample': 0.7, 'learning_rate': 0.00908623289223849, 'n_estimators': 7593, 'max_depth': 8, 'min_child_weight': 206}. Best is trial 0 with value: 100.0.\n",
      "[I 2023-08-05 16:50:57,055] Trial 7 finished with value: 100.0 and parameters: {'lambda': 0.0032720987372859434, 'alpha': 0.024165065797012015, 'colsample_bytree': 0.9, 'subsample': 1.0, 'learning_rate': 0.0069531461530935096, 'n_estimators': 8768, 'max_depth': 10, 'min_child_weight': 21}. Best is trial 0 with value: 100.0.\n",
      "[I 2023-08-05 16:50:58,394] Trial 8 finished with value: 100.0 and parameters: {'lambda': 0.008026170660262207, 'alpha': 0.2442539473740534, 'colsample_bytree': 0.6, 'subsample': 0.6, 'learning_rate': 0.005428564773508348, 'n_estimators': 3097, 'max_depth': 11, 'min_child_weight': 107}. Best is trial 0 with value: 100.0.\n",
      "[I 2023-08-05 16:51:02,410] Trial 9 finished with value: 100.0 and parameters: {'lambda': 1.0833671477832276, 'alpha': 0.5650976208938902, 'colsample_bytree': 0.7, 'subsample': 0.8, 'learning_rate': 0.01709129600372092, 'n_estimators': 9846, 'max_depth': 12, 'min_child_weight': 156}. Best is trial 0 with value: 100.0.\n",
      "[I 2023-08-05 16:51:06,609] Trial 10 finished with value: 100.0 and parameters: {'lambda': 0.003255174224471966, 'alpha': 8.378834889960174, 'colsample_bytree': 0.3, 'subsample': 0.5, 'learning_rate': 0.04936042944638409, 'n_estimators': 6746, 'max_depth': 16, 'min_child_weight': 298}. Best is trial 0 with value: 100.0.\n",
      "[I 2023-08-05 16:51:08,642] Trial 11 finished with value: 100.0 and parameters: {'lambda': 9.580545413413516, 'alpha': 0.05029488519860016, 'colsample_bytree': 1.0, 'subsample': 0.7, 'learning_rate': 0.04488035075594118, 'n_estimators': 5357, 'max_depth': 6, 'min_child_weight': 169}. Best is trial 0 with value: 100.0.\n",
      "[I 2023-08-05 16:51:10,852] Trial 12 finished with value: 100.0 and parameters: {'lambda': 0.43953301638323156, 'alpha': 0.010171999919738977, 'colsample_bytree': 0.5, 'subsample': 0.5, 'learning_rate': 0.029112565867779657, 'n_estimators': 5362, 'max_depth': 7, 'min_child_weight': 81}. Best is trial 0 with value: 100.0.\n",
      "[I 2023-08-05 16:51:13,518] Trial 13 finished with value: 100.0 and parameters: {'lambda': 5.4552887466249205, 'alpha': 0.10520305783318701, 'colsample_bytree': 1.0, 'subsample': 0.7, 'learning_rate': 0.012120679619656958, 'n_estimators': 7127, 'max_depth': 8, 'min_child_weight': 201}. Best is trial 0 with value: 100.0.\n",
      "[I 2023-08-05 16:51:15,278] Trial 14 finished with value: 100.0 and parameters: {'lambda': 0.0011080444383339385, 'alpha': 0.04029606876173122, 'colsample_bytree': 1.0, 'subsample': 0.5, 'learning_rate': 0.02484615826355498, 'n_estimators': 4012, 'max_depth': 14, 'min_child_weight': 128}. Best is trial 0 with value: 100.0.\n",
      "[I 2023-08-05 16:51:15,502] Trial 15 finished with value: 100.0 and parameters: {'lambda': 1.3678459762368855, 'alpha': 0.010623359554958429, 'colsample_bytree': 0.3, 'subsample': 0.8, 'learning_rate': 0.03461643383720933, 'n_estimators': 310, 'max_depth': 8, 'min_child_weight': 69}. Best is trial 0 with value: 100.0.\n",
      "[I 2023-08-05 16:51:17,943] Trial 16 finished with value: 100.0 and parameters: {'lambda': 0.22715990952693035, 'alpha': 0.04599504775792615, 'colsample_bytree': 0.4, 'subsample': 1.0, 'learning_rate': 0.021077208991922974, 'n_estimators': 6264, 'max_depth': 5, 'min_child_weight': 205}. Best is trial 0 with value: 100.0.\n",
      "[I 2023-08-05 16:51:21,094] Trial 17 finished with value: 100.0 and parameters: {'lambda': 2.8304091362444517, 'alpha': 0.09760771918396516, 'colsample_bytree': 0.6, 'subsample': 0.6, 'learning_rate': 0.014417029881974354, 'n_estimators': 8055, 'max_depth': 9, 'min_child_weight': 175}. Best is trial 0 with value: 100.0.\n",
      "[I 2023-08-05 16:51:23,739] Trial 18 finished with value: 100.0 and parameters: {'lambda': 0.7005889515089638, 'alpha': 0.024730746304136363, 'colsample_bytree': 0.5, 'subsample': 0.7, 'learning_rate': 0.03588222375772681, 'n_estimators': 6143, 'max_depth': 13, 'min_child_weight': 134}. Best is trial 0 with value: 100.0.\n",
      "[I 2023-08-05 16:51:25,349] Trial 19 finished with value: 100.0 and parameters: {'lambda': 2.3967355353020787, 'alpha': 0.22644545054420165, 'colsample_bytree': 0.9, 'subsample': 0.5, 'learning_rate': 0.02207561392773349, 'n_estimators': 3962, 'max_depth': 7, 'min_child_weight': 238}. Best is trial 0 with value: 100.0.\n",
      "  0%|          | 0/15890 [00:53<?, ?it/s]\n"
     ]
    },
    {
     "ename": "AttributeError",
     "evalue": "'DataFrame' object has no attribute 'num'",
     "output_type": "error",
     "traceback": [
      "\u001b[0;31m---------------------------------------------------------------------------\u001b[0m",
      "\u001b[0;31mAttributeError\u001b[0m                            Traceback (most recent call last)",
      "Cell \u001b[0;32mIn [20], line 49\u001b[0m\n\u001b[1;32m     46\u001b[0m y_train, y_test, x_train, x_test \u001b[38;5;241m=\u001b[39m temporal_train_test_split(y \u001b[38;5;241m=\u001b[39m y, X \u001b[38;5;241m=\u001b[39m x, test_size \u001b[38;5;241m=\u001b[39m \u001b[38;5;241m21\u001b[39m)\n\u001b[1;32m     48\u001b[0m y_train \u001b[38;5;241m=\u001b[39m train[train[\u001b[38;5;124m'\u001b[39m\u001b[38;5;124mproduct\u001b[39m\u001b[38;5;124m'\u001b[39m] \u001b[38;5;241m==\u001b[39m i][\u001b[38;5;124m'\u001b[39m\u001b[38;5;124mtarget\u001b[39m\u001b[38;5;124m'\u001b[39m]\n\u001b[0;32m---> 49\u001b[0m x_train \u001b[38;5;241m=\u001b[39m train[train[\u001b[38;5;124m'\u001b[39m\u001b[38;5;124mproduct\u001b[39m\u001b[38;5;124m'\u001b[39m] \u001b[38;5;241m==\u001b[39m i]\u001b[38;5;241m.\u001b[39miloc[:, \u001b[38;5;241m3\u001b[39m:], test\u001b[38;5;241m.\u001b[39mloc[\u001b[43mtest\u001b[49m\u001b[38;5;241;43m.\u001b[39;49m\u001b[43mnum\u001b[49m \u001b[38;5;241m==\u001b[39m i, ]\u001b[38;5;241m.\u001b[39miloc[:,\u001b[38;5;241m1\u001b[39m:]\n\u001b[1;32m     50\u001b[0m x_test \u001b[38;5;241m=\u001b[39m x_test[x_train\u001b[38;5;241m.\u001b[39mcolumns]\n\u001b[1;32m     52\u001b[0m model \u001b[38;5;241m=\u001b[39m XGBRegressor(\u001b[38;5;241m*\u001b[39m\u001b[38;5;241m*\u001b[39mparams, enable_categorical\u001b[38;5;241m=\u001b[39m\u001b[38;5;28;01mTrue\u001b[39;00m)\n",
      "File \u001b[0;32m/usr/local/lib/python3.9/dist-packages/pandas/core/generic.py:5907\u001b[0m, in \u001b[0;36mNDFrame.__getattr__\u001b[0;34m(self, name)\u001b[0m\n\u001b[1;32m   5900\u001b[0m \u001b[38;5;28;01mif\u001b[39;00m (\n\u001b[1;32m   5901\u001b[0m     name \u001b[38;5;129;01mnot\u001b[39;00m \u001b[38;5;129;01min\u001b[39;00m \u001b[38;5;28mself\u001b[39m\u001b[38;5;241m.\u001b[39m_internal_names_set\n\u001b[1;32m   5902\u001b[0m     \u001b[38;5;129;01mand\u001b[39;00m name \u001b[38;5;129;01mnot\u001b[39;00m \u001b[38;5;129;01min\u001b[39;00m \u001b[38;5;28mself\u001b[39m\u001b[38;5;241m.\u001b[39m_metadata\n\u001b[1;32m   5903\u001b[0m     \u001b[38;5;129;01mand\u001b[39;00m name \u001b[38;5;129;01mnot\u001b[39;00m \u001b[38;5;129;01min\u001b[39;00m \u001b[38;5;28mself\u001b[39m\u001b[38;5;241m.\u001b[39m_accessors\n\u001b[1;32m   5904\u001b[0m     \u001b[38;5;129;01mand\u001b[39;00m \u001b[38;5;28mself\u001b[39m\u001b[38;5;241m.\u001b[39m_info_axis\u001b[38;5;241m.\u001b[39m_can_hold_identifiers_and_holds_name(name)\n\u001b[1;32m   5905\u001b[0m ):\n\u001b[1;32m   5906\u001b[0m     \u001b[38;5;28;01mreturn\u001b[39;00m \u001b[38;5;28mself\u001b[39m[name]\n\u001b[0;32m-> 5907\u001b[0m \u001b[38;5;28;01mreturn\u001b[39;00m \u001b[38;5;28;43mobject\u001b[39;49m\u001b[38;5;241;43m.\u001b[39;49m\u001b[38;5;21;43m__getattribute__\u001b[39;49m\u001b[43m(\u001b[49m\u001b[38;5;28;43mself\u001b[39;49m\u001b[43m,\u001b[49m\u001b[43m \u001b[49m\u001b[43mname\u001b[49m\u001b[43m)\u001b[49m\n",
      "\u001b[0;31mAttributeError\u001b[0m: 'DataFrame' object has no attribute 'num'"
     ]
    }
   ],
   "source": [
    "from sklearn.model_selection import PredefinedSplit, GridSearchCV\n",
    "preds = np.array([])\n",
    "product_unique = train['product'].unique()\n",
    "\n",
    "for i in tqdm(product_unique):\n",
    "    y = train[train['product'] == i]['target']\n",
    "    x = train[train['product'] == i].iloc[:, 2:]\n",
    "    pred_df = pd.DataFrame()\n",
    "    for seed in [42]:\n",
    "        def objective(trial):\n",
    "            y_train, y_test, x_train, x_test = temporal_train_test_split(y = y, X = x, test_size = 21)\n",
    "\n",
    "            params = {\n",
    "            'tree_method':'gpu_hist',  # this parameter means using the GPU when training our model to speedup the training process\n",
    "            \"objective\": \"reg:squarederror\",\n",
    "            'lambda': trial.suggest_loguniform('lambda', 1e-3, 10.0),\n",
    "            \"alpha\": trial.suggest_loguniform(\"alpha\", 0.01, 10.0),\n",
    "            \"gamma\": trial.suggest_loguniform(\"lambda\", 1e-8, 10.0),\n",
    "            'colsample_bytree': trial.suggest_categorical('colsample_bytree', [0.3,0.4,0.5,0.6,0.7,0.8,0.9, 1.0]),\n",
    "            'subsample': trial.suggest_categorical('subsample', [0.4,0.5,0.6,0.7,0.8,1.0]),\n",
    "            \"learning_rate\": trial.suggest_loguniform(\"learning_rate\", 0.005, 0.05),\n",
    "            'n_estimators':trial.suggest_int(\"n_estimators\", 30, 10000),\n",
    "            'max_depth': trial.suggest_int('max_depth', 5, 17),\n",
    "            # 'random_state': trial.suggest_categorical('random_state', [2020]),\n",
    "            'min_child_weight': trial.suggest_int('min_child_weight', 1, 300),\n",
    "            'random_state': seed,\n",
    "            }\n",
    "\n",
    "\n",
    "            pds = PredefinedSplit(np.append(-np.ones(len(x)-21), np.zeros(21)))\n",
    "            model = xgb.XGBRegressor(**params, enable_categorical=True)\n",
    "            model.fit(x_train, y_train)\n",
    "\n",
    "            pred = model.predict(x_test)\n",
    "\n",
    "            smape = SMAPE(y_test, pred)\n",
    "            return smape\n",
    "\n",
    "        study = optuna.create_study(direction=\"minimize\")\n",
    "        study.optimize(objective, n_trials=20)\n",
    "\n",
    "        params=study.best_params\n",
    "        params['tree_method'] = 'gpu_hist'\n",
    "        params['random_state'] = seed\n",
    "\n",
    "        y_train, y_test, x_train, x_test = temporal_train_test_split(y = y, X = x, test_size = 21)\n",
    "\n",
    "        y_train = train[train['product'] == i]['target']\n",
    "        x_train = train[train['product'] == i].iloc[:, 3:], test.loc[test.num == i, ].iloc[:,1:]\n",
    "        x_test = x_test[x_train.columns]\n",
    "\n",
    "        model = XGBRegressor(**params, enable_categorical=True)\n",
    "        model.fit(x_train, y_train)\n",
    "        y_pred = model.predict(x_test)\n",
    "        pred_df.loc[:,seed] = y_pred\n",
    "    pred = pred_df.mean(axis=1)\n",
    "    preds = np.append(preds, pred)"
   ]
  },
  {
   "cell_type": "code",
   "execution_count": null,
   "id": "LaDt1LC5PJF9",
   "metadata": {
    "execution": {
     "iopub.status.busy": "2023-08-05T16:51:25.718709Z",
     "iopub.status.idle": "2023-08-05T16:51:25.719236Z",
     "shell.execute_reply": "2023-08-05T16:51:25.719142Z",
     "shell.execute_reply.started": "2023-08-05T16:51:25.719125Z"
    },
    "id": "LaDt1LC5PJF9"
   },
   "outputs": [],
   "source": [
    "submission = pd.read_csv(path + 'new_sub.csv')\n",
    "submission['answer'] = preds\n",
    "submission.to_csv(path + 'xgboost_optuna.csv', index = False)"
   ]
  },
  {
   "cell_type": "code",
   "execution_count": null,
   "id": "bTgiE1cY2M88",
   "metadata": {
    "execution": {
     "iopub.status.busy": "2023-08-05T14:31:15.953243Z",
     "iopub.status.idle": "2023-08-05T14:31:15.953426Z",
     "shell.execute_reply": "2023-08-05T14:31:15.953348Z",
     "shell.execute_reply.started": "2023-08-05T14:31:15.953338Z"
    },
    "id": "bTgiE1cY2M88"
   },
   "outputs": [],
   "source": [
    "preds = np.array([])\n",
    "for i in tqdm(range(60)):\n",
    "\n",
    "    pred_df = pd.DataFrame()   # 시드별 예측값을 담을 data frame\n",
    "\n",
    "    for seed in [0,1,2,3,4,5]: # 각 시드별 예측\n",
    "        y_train = train.loc[train.num == i+1, 'power']\n",
    "        x_train, x_test = train.loc[train.num == i+1, ].iloc[:, 3:], test.loc[test.num == i+1, ].iloc[:,1:]\n",
    "        x_test = x_test[x_train.columns]\n",
    "\n",
    "        xgb = XGBRegressor(seed = seed, n_estimators = best_it[i], eta = 0.01,\n",
    "                           min_child_weight = xgb_params.iloc[i, 2], max_depth = xgb_params.iloc[i, 3],\n",
    "                           colsample_bytree=xgb_params.iloc[i, 4], subsample=xgb_params.iloc[i, 5])\n",
    "\n",
    "        if xgb_params.iloc[i,6] != 0:  # 만약 alpha가 0이 아니면 weighted_mse 사용\n",
    "            xgb.set_params(**{'objective':weighted_mse(xgb_params.iloc[i,6])})\n",
    "\n",
    "        xgb.fit(x_train, y_train)\n",
    "        y_pred = xgb.predict(x_test)\n",
    "        pred_df.loc[:,seed] = y_pred   # 각 시드별 예측 담기\n",
    "\n",
    "    pred = pred_df.mean(axis=1)        # (i+1)번째 건물의 예측 =  (i+1)번째 건물의 각 시드별 예측 평균값\n",
    "    preds = np.append(preds, pred)"
   ]
  },
  {
   "cell_type": "code",
   "execution_count": null,
   "id": "1d5696e3-5111-4e09-ad31-1156aa6af19e",
   "metadata": {
    "execution": {
     "iopub.status.busy": "2023-08-05T14:31:15.954101Z",
     "iopub.status.idle": "2023-08-05T14:31:15.954274Z",
     "shell.execute_reply": "2023-08-05T14:31:15.954199Z",
     "shell.execute_reply.started": "2023-08-05T14:31:15.954189Z"
    },
    "id": "1d5696e3-5111-4e09-ad31-1156aa6af19e"
   },
   "outputs": [],
   "source": [
    "xgb_params = pd.read_csv('./parameters/hyperparameter_xgb.csv')"
   ]
  },
  {
   "cell_type": "markdown",
   "id": "4cd0bf02-4a3b-4c0c-aa91-d4580d4773d3",
   "metadata": {
    "id": "4cd0bf02-4a3b-4c0c-aa91-d4580d4773d3"
   },
   "source": [
    "### find the bset iteration (given alpha = 100)"
   ]
  },
  {
   "cell_type": "code",
   "execution_count": null,
   "id": "proved-chain",
   "metadata": {
    "execution": {
     "iopub.status.busy": "2023-08-05T14:31:15.954939Z",
     "iopub.status.idle": "2023-08-05T14:31:15.955131Z",
     "shell.execute_reply": "2023-08-05T14:31:15.955054Z",
     "shell.execute_reply.started": "2023-08-05T14:31:15.955043Z"
    },
    "id": "proved-chain",
    "scrolled": true
   },
   "outputs": [],
   "source": [
    "scores = []   # smape 값을 저장할 list\n",
    "best_it = []  # best interation을 저장할 list\n",
    "for i in tqdm(range(60)):\n",
    "    y = train.loc[train.num == i+1, 'power']\n",
    "    x = train.loc[train.num == i+1, ].iloc[:, 3:]\n",
    "    y_train, y_valid, x_train, x_valid = temporal_train_test_split(y = y, X = x, test_size = 168)\n",
    "\n",
    "    xgb_reg = XGBRegressor(n_estimators = 10000, eta = 0.01, min_child_weight = xgb_params.iloc[i, 2],\n",
    "                           max_depth = xgb_params.iloc[i, 3], colsample_bytree = xgb_params.iloc[i, 4],\n",
    "                           subsample = xgb_params.iloc[i, 5], seed=0)\n",
    "    xgb_reg.set_params(**{'objective':weighted_mse(100)}) # alpha = 100으로 고정\n",
    "\n",
    "    xgb_reg.fit(x_train, y_train, eval_set=[(x_train, y_train),\n",
    "                                            (x_valid, y_valid)], early_stopping_rounds=300, verbose=False)\n",
    "    y_pred = xgb_reg.predict(x_valid)\n",
    "    pred = pd.Series(y_pred)\n",
    "\n",
    "    sm = SMAPE(y_valid, y_pred)\n",
    "    scores.append(sm)\n",
    "    best_it.append(xgb_reg.best_iteration) ## 실제 best iteration은 이 값에 +1 해주어야 함."
   ]
  },
  {
   "cell_type": "markdown",
   "id": "weird-copper",
   "metadata": {
    "id": "weird-copper"
   },
   "source": [
    "### alpha tuning for weighted MSE"
   ]
  },
  {
   "cell_type": "code",
   "execution_count": null,
   "id": "binary-plaza",
   "metadata": {
    "execution": {
     "iopub.status.busy": "2023-08-05T14:31:15.955934Z",
     "iopub.status.idle": "2023-08-05T14:31:15.956118Z",
     "shell.execute_reply": "2023-08-05T14:31:15.956041Z",
     "shell.execute_reply.started": "2023-08-05T14:31:15.956032Z"
    },
    "id": "binary-plaza"
   },
   "outputs": [],
   "source": [
    "alpha_list = []\n",
    "smape_list = []\n",
    "for i in tqdm(range(60)):\n",
    "    y = train.loc[train.num == i+1, 'power']\n",
    "    x = train.loc[train.num == i+1, ].iloc[:, 3:]\n",
    "    y_train, y_test, x_train, x_test = temporal_train_test_split(y = y, X = x, test_size = 168)\n",
    "    xgb = XGBRegressor(seed = 0,\n",
    "                      n_estimators = best_it[i], eta = 0.01, min_child_weight = xgb_params.iloc[i, 2],\n",
    "                      max_depth = xgb_params.iloc[i, 3], colsample_bytree = xgb_params.iloc[i, 4], subsample = xgb_params.iloc[i, 5])\n",
    "\n",
    "    xgb.fit(x_train, y_train)\n",
    "    pred0 = xgb.predict(x_test)\n",
    "    best_alpha = 0\n",
    "    score0 = SMAPE(y_test,pred0)\n",
    "\n",
    "    for j in [1, 3, 5, 7, 10, 25, 50, 75, 100]:\n",
    "        xgb = XGBRegressor(seed = 0,\n",
    "                      n_estimators = best_it[i], eta = 0.01, min_child_weight = xgb_params.iloc[i, 2],\n",
    "                      max_depth = xgb_params.iloc[i, 3], colsample_bytree = xgb_params.iloc[i, 4], subsample = xgb_params.iloc[i, 5])\n",
    "        xgb.set_params(**{'objective' : weighted_mse(j)})\n",
    "\n",
    "        xgb.fit(x_train, y_train)\n",
    "        pred1 = xgb.predict(x_test)\n",
    "        score1 = SMAPE(y_test, pred1)\n",
    "        if score1 < score0:\n",
    "            best_alpha = j\n",
    "            score0 = score1\n",
    "\n",
    "    alpha_list.append(best_alpha)\n",
    "    smape_list.append(score0)\n",
    "    print(\"building {} || best score : {} || alpha : {}\".format(i+1, score0, best_alpha))"
   ]
  },
  {
   "cell_type": "code",
   "execution_count": null,
   "id": "4f84b587-e014-4259-a8da-ff5f9635895f",
   "metadata": {
    "execution": {
     "iopub.status.busy": "2023-08-05T14:31:15.956905Z",
     "iopub.status.idle": "2023-08-05T14:31:15.957088Z",
     "shell.execute_reply": "2023-08-05T14:31:15.957010Z",
     "shell.execute_reply.started": "2023-08-05T14:31:15.957001Z"
    },
    "id": "4f84b587-e014-4259-a8da-ff5f9635895f"
   },
   "outputs": [],
   "source": [
    "no_df = pd.DataFrame({'score':smape_list})\n",
    "plt.bar(np.arange(len(no_df))+1, no_df['score'])\n",
    "plt.plot([1,60], [10, 10], color = 'red')"
   ]
  },
  {
   "cell_type": "markdown",
   "id": "e98af3b9-4d1e-4f68-9b58-a46ecf821ea9",
   "metadata": {
    "id": "e98af3b9-4d1e-4f68-9b58-a46ecf821ea9"
   },
   "source": [
    "## 4. test inference"
   ]
  },
  {
   "cell_type": "markdown",
   "id": "c92ef150-ad42-41c5-9085-35a222d4e8e9",
   "metadata": {
    "id": "c92ef150-ad42-41c5-9085-35a222d4e8e9"
   },
   "source": [
    "### preprocessing for test data"
   ]
  },
  {
   "cell_type": "code",
   "execution_count": null,
   "id": "fc8a942d-7fd3-456f-a1f7-d789e4630f7e",
   "metadata": {
    "execution": {
     "iopub.status.busy": "2023-08-05T14:31:15.957595Z",
     "iopub.status.idle": "2023-08-05T14:31:15.957769Z",
     "shell.execute_reply": "2023-08-05T14:31:15.957693Z",
     "shell.execute_reply.started": "2023-08-05T14:31:15.957684Z"
    },
    "id": "fc8a942d-7fd3-456f-a1f7-d789e4630f7e"
   },
   "outputs": [],
   "source": [
    "# train set과 동일한 전처리 과정\n",
    "test = pd.read_csv('./data/test.csv', encoding = 'cp949')\n",
    "cols = ['num', 'date_time', 'temp', 'wind','hum' ,'prec', 'sun', 'non_elec', 'solar']\n",
    "test.columns = cols\n",
    "date = pd.to_datetime(test.date_time)\n",
    "test['hour'] = date.dt.hour\n",
    "test['day'] = date.dt.weekday\n",
    "test['month'] = date.dt.month\n",
    "test['week'] = date.dt.weekofyear\n",
    "test['sin_time'] = np.sin(2*np.pi*test.hour/24)\n",
    "test['cos_time'] = np.cos(2*np.pi*test.hour/24)\n",
    "test['holiday'] = test.apply(lambda x : 0 if x['day']<5 else 1, axis = 1)\n",
    "test.loc[('2020-08-17'<=test.date_time)&(test.date_time<'2020-08-18'), 'holiday'] = 1\n",
    "\n",
    "## 건물별 일별 시간별 발전량 평균\n",
    "tqdm.pandas()\n",
    "test['day_hour_mean'] = test.progress_apply(lambda x : power_mean.loc[(power_mean.num == x['num']) & (power_mean.day == x['day']) & (power_mean.hour == x['hour']) ,'power'].values[0], axis = 1)\n",
    "\n",
    "## 건물별 시간별 발전량 평균 넣어주기\n",
    "tqdm.pandas()\n",
    "test['hour_mean'] = test.progress_apply(lambda x : power_hour_mean.loc[(power_hour_mean.num == x['num']) & (power_hour_mean.hour == x['hour']) ,'power'].values[0], axis = 1)\n",
    "\n",
    "tqdm.pandas()\n",
    "test['hour_std'] = test.progress_apply(lambda x : power_hour_std.loc[(power_hour_std.num == x['num']) & (power_hour_std.hour == x['hour']) ,'power'].values[0], axis = 1)\n",
    "\n",
    "test.drop(['non_elec', 'solar','hour','date_time'], axis = 1, inplace = True)\n",
    "\n",
    "# pandas 내 선형보간 method 사용\n",
    "for i in range(60):\n",
    "    test.iloc[i*168:(i+1)*168, :]  = test.iloc[i*168:(i+1)*168, :].interpolate()\n",
    "\n",
    "\n",
    "test['THI'] = 9/5*test['temp'] - 0.55*(1-test['hum']/100)*(9/5*test['hum']-26)+32\n",
    "\n",
    "cdhs = np.array([])\n",
    "for num in range(1,61,1):\n",
    "    temp = test[test['num'] == num]\n",
    "    cdh = CDH(temp['temp'].values)\n",
    "    cdhs = np.concatenate([cdhs, cdh])\n",
    "test['CDH'] = cdhs\n",
    "\n",
    "test = test[['num','temp', 'wind', 'hum', 'prec', 'sun', 'day', 'month', 'week',\n",
    "       'day_hour_mean', 'hour_mean', 'hour_std', 'holiday', 'sin_time',\n",
    "       'cos_time', 'THI', 'CDH']]\n",
    "test.head()"
   ]
  },
  {
   "cell_type": "code",
   "execution_count": null,
   "id": "beginning-above",
   "metadata": {
    "execution": {
     "iopub.status.busy": "2023-08-05T14:31:15.958332Z",
     "iopub.status.idle": "2023-08-05T14:31:15.958545Z",
     "shell.execute_reply": "2023-08-05T14:31:15.958462Z",
     "shell.execute_reply.started": "2023-08-05T14:31:15.958452Z"
    },
    "id": "beginning-above"
   },
   "outputs": [],
   "source": [
    "xgb_params['alpha'] = alpha_list\n",
    "xgb_params['best_it'] = best_it\n",
    "xgb_params.head()"
   ]
  },
  {
   "cell_type": "code",
   "execution_count": null,
   "id": "middle-bathroom",
   "metadata": {
    "execution": {
     "iopub.status.busy": "2023-08-05T14:31:15.959216Z",
     "iopub.status.idle": "2023-08-05T14:31:15.959393Z",
     "shell.execute_reply": "2023-08-05T14:31:15.959316Z",
     "shell.execute_reply.started": "2023-08-05T14:31:15.959307Z"
    },
    "id": "middle-bathroom"
   },
   "outputs": [],
   "source": [
    "#xgb_params.to_csv('./hyperparameter_xgb_final.csv', index=False)"
   ]
  },
  {
   "cell_type": "code",
   "execution_count": null,
   "id": "enormous-shelter",
   "metadata": {
    "execution": {
     "iopub.status.busy": "2023-08-05T14:31:15.959995Z",
     "iopub.status.idle": "2023-08-05T14:31:15.960169Z",
     "shell.execute_reply": "2023-08-05T14:31:15.960094Z",
     "shell.execute_reply.started": "2023-08-05T14:31:15.960085Z"
    },
    "id": "enormous-shelter"
   },
   "outputs": [],
   "source": [
    "## best hyperparameters 불러오기\n",
    "xgb_params = pd.read_csv('./parameters/hyperparameter_xgb_final.csv')\n",
    "xgb_params.head()"
   ]
  },
  {
   "cell_type": "code",
   "execution_count": null,
   "id": "constant-swimming",
   "metadata": {
    "execution": {
     "iopub.status.busy": "2023-08-05T14:31:15.960931Z",
     "iopub.status.idle": "2023-08-05T14:31:15.961109Z",
     "shell.execute_reply": "2023-08-05T14:31:15.961032Z",
     "shell.execute_reply.started": "2023-08-05T14:31:15.961022Z"
    },
    "id": "constant-swimming"
   },
   "outputs": [],
   "source": [
    "best_it = xgb_params['best_it'].to_list()\n",
    "best_it[0]        # 1051"
   ]
  },
  {
   "cell_type": "markdown",
   "id": "d865cdab-bab7-4b4b-8a1d-e48c63609fa3",
   "metadata": {
    "id": "d865cdab-bab7-4b4b-8a1d-e48c63609fa3"
   },
   "source": [
    "### seed ensemble\n",
    "#### - seed별로 예측값이 조금씩 바뀝니다.\n",
    "#### - seed의 영향을 제거하기 위해 6개의 seed(0부터 5)별로 훈련, 예측하여 6개 예측값의 평균을 구했습니다."
   ]
  },
  {
   "cell_type": "code",
   "execution_count": null,
   "id": "5e1c328c-fad3-4d71-9f17-eec3302296c0",
   "metadata": {
    "execution": {
     "iopub.status.busy": "2023-08-05T14:31:15.961832Z",
     "iopub.status.idle": "2023-08-05T14:31:15.962012Z",
     "shell.execute_reply": "2023-08-05T14:31:15.961936Z",
     "shell.execute_reply.started": "2023-08-05T14:31:15.961926Z"
    },
    "id": "5e1c328c-fad3-4d71-9f17-eec3302296c0"
   },
   "outputs": [],
   "source": [
    "preds = np.array([])\n",
    "for i in tqdm(range(60)):\n",
    "\n",
    "    pred_df = pd.DataFrame()   # 시드별 예측값을 담을 data frame\n",
    "\n",
    "    for seed in [0,1,2,3,4,5]: # 각 시드별 예측\n",
    "        y_train = train.loc[train.num == i+1, 'power']\n",
    "        x_train, x_test = train.loc[train.num == i+1, ].iloc[:, 3:], test.loc[test.num == i+1, ].iloc[:,1:]\n",
    "        x_test = x_test[x_train.columns]\n",
    "\n",
    "        xgb = XGBRegressor(seed = seed, n_estimators = best_it[i], eta = 0.01,\n",
    "                           min_child_weight = xgb_params.iloc[i, 2], max_depth = xgb_params.iloc[i, 3],\n",
    "                           colsample_bytree=xgb_params.iloc[i, 4], subsample=xgb_params.iloc[i, 5])\n",
    "\n",
    "        if xgb_params.iloc[i,6] != 0:  # 만약 alpha가 0이 아니면 weighted_mse 사용\n",
    "            xgb.set_params(**{'objective':weighted_mse(xgb_params.iloc[i,6])})\n",
    "\n",
    "        xgb.fit(x_train, y_train)\n",
    "        y_pred = xgb.predict(x_test)\n",
    "        pred_df.loc[:,seed] = y_pred   # 각 시드별 예측 담기\n",
    "\n",
    "    pred = pred_df.mean(axis=1)        # (i+1)번째 건물의 예측 =  (i+1)번째 건물의 각 시드별 예측 평균값\n",
    "    preds = np.append(preds, pred)"
   ]
  },
  {
   "cell_type": "code",
   "execution_count": null,
   "id": "empty-space",
   "metadata": {
    "execution": {
     "iopub.status.busy": "2023-08-05T14:31:15.962722Z",
     "iopub.status.idle": "2023-08-05T14:31:15.962895Z",
     "shell.execute_reply": "2023-08-05T14:31:15.962822Z",
     "shell.execute_reply.started": "2023-08-05T14:31:15.962813Z"
    },
    "id": "empty-space",
    "scrolled": true
   },
   "outputs": [],
   "source": [
    "preds = pd.Series(preds)\n",
    "\n",
    "fig, ax = plt.subplots(60, 1, figsize=(100,200), sharex = True)\n",
    "ax = ax.flatten()\n",
    "for i in range(60):\n",
    "    train_y = train.loc[train.num == i+1, 'power'].reset_index(drop = True)\n",
    "    test_y = preds[i*168:(i+1)*168]\n",
    "    ax[i].scatter(np.arange(2040) , train.loc[train.num == i+1, 'power'])\n",
    "    ax[i].scatter(np.arange(2040, 2040+168) , test_y)\n",
    "    ax[i].tick_params(axis='both', which='major', labelsize=6)\n",
    "    ax[i].tick_params(axis='both', which='minor', labelsize=4)\n",
    "#plt.savefig('./predict_xgb.png')\n",
    "plt.show()"
   ]
  },
  {
   "cell_type": "code",
   "execution_count": null,
   "id": "521eb6cf-f4bd-485f-8f30-3d442c22d214",
   "metadata": {
    "execution": {
     "iopub.status.busy": "2023-08-05T14:31:15.963649Z",
     "iopub.status.idle": "2023-08-05T14:31:15.963821Z",
     "shell.execute_reply": "2023-08-05T14:31:15.963748Z",
     "shell.execute_reply.started": "2023-08-05T14:31:15.963739Z"
    },
    "id": "521eb6cf-f4bd-485f-8f30-3d442c22d214"
   },
   "outputs": [],
   "source": [
    "submission = pd.read_csv('./data/sample_submission.csv')\n",
    "submission['answer'] = preds\n",
    "submission.to_csv('./submission/submission_xgb_noclip.csv', index = False)"
   ]
  },
  {
   "cell_type": "markdown",
   "id": "f95d9483-009b-4a0c-9056-394008bbc3b6",
   "metadata": {
    "id": "f95d9483-009b-4a0c-9056-394008bbc3b6"
   },
   "source": [
    "## 5. post processing"
   ]
  },
  {
   "cell_type": "markdown",
   "id": "ccf1ac57-34ef-43cd-9b94-273fa107bfa4",
   "metadata": {
    "id": "ccf1ac57-34ef-43cd-9b94-273fa107bfa4"
   },
   "source": [
    "#### weighted mse와 같은 맥락에서, 과도한 underestimate를 막기 위해 예측값을 후처리했습니다.\n",
    "##### - 예측 주로부터 직전 4주(train set 마지막 28일)의 건물별 요일별 시간대별 전력소비량의 최솟값을 구한 뒤,\n",
    "##### - test set의 같은 건물 요일 시간대의 예측값과 비교하여 만약 1번의 최솟값보다 예측값이 작다면 최솟값으로 예측값을 대체해주었습니다.\n",
    "##### - public score 0.01 , private score 0.08 정도의 성능 향상이 있었습니다."
   ]
  },
  {
   "cell_type": "code",
   "execution_count": null,
   "id": "8e247ae6-fa0c-40c6-944a-cb988872e0c2",
   "metadata": {
    "execution": {
     "iopub.status.busy": "2023-08-05T14:31:15.964347Z",
     "iopub.status.idle": "2023-08-05T14:31:15.964560Z",
     "shell.execute_reply": "2023-08-05T14:31:15.964456Z",
     "shell.execute_reply.started": "2023-08-05T14:31:15.964444Z"
    },
    "id": "8e247ae6-fa0c-40c6-944a-cb988872e0c2"
   },
   "outputs": [],
   "source": [
    "train_to_post = pd.read_csv('./data/train.csv', encoding = 'cp949')\n",
    "cols = ['num', 'date_time', 'power', 'temp', 'wind','hum' ,'prec', 'sun', 'non_elec', 'solar']\n",
    "train_to_post.columns = cols\n",
    "date = pd.to_datetime(train_to_post.date_time)\n",
    "train_to_post['hour'] = date.dt.hour\n",
    "train_to_post['day'] = date.dt.weekday\n",
    "train_to_post['month'] = date.dt.month\n",
    "train_to_post['week'] = date.dt.weekofyear\n",
    "train_to_post = train_to_post.loc[(('2020-08-17'>train_to_post.date_time)|(train_to_post.date_time>='2020-08-18')), ].reset_index(drop = True)\n",
    "\n",
    "pred_clip = []\n",
    "test_to_post = pd.read_csv('./data/test.csv',  encoding = 'cp949')\n",
    "cols = ['num', 'date_time', 'temp', 'wind','hum' ,'prec', 'sun', 'non_elec', 'solar']\n",
    "test_to_post.columns = cols\n",
    "date = pd.to_datetime(test_to_post.date_time)\n",
    "test_to_post['hour'] = date.dt.hour\n",
    "test_to_post['day'] = date.dt.weekday\n",
    "test_to_post['month'] = date.dt.month\n",
    "test_to_post['week'] = date.dt.weekofyear\n",
    "\n",
    "## submission 불러오기\n",
    "df = pd.read_csv('./submission/submission_xgb_noclip.csv')\n",
    "for i in range(60):\n",
    "    min_data = train_to_post.loc[train_to_post.num == i+1, ].iloc[-28*24:, :] ## 건물별로 직전 28일의 데이터 불러오기\n",
    "    ## 요일별, 시간대별 최솟값 계산\n",
    "    min_data = pd.pivot_table(min_data, values = 'power', index = ['day', 'hour'], aggfunc = min).reset_index()\n",
    "    pred = df.answer[168*i:168*(i+1)].reset_index(drop=True) ## 168개 데이터, 즉 건물별 예측값 불러오기\n",
    "    day =  test_to_post.day[168*i:168*(i+1)].reset_index(drop=True) ## 예측값 요일 불러오기\n",
    "    hour = test_to_post.hour[168*i:168*(i+1)].reset_index(drop=True) ## 예측값 시간 불러오기\n",
    "    df_pred = pd.concat([pred, day, hour], axis = 1)\n",
    "    df_pred.columns = ['pred', 'day', 'hour']\n",
    "    for j in range(len(df_pred)):\n",
    "        min_power = min_data.loc[(min_data.day == df_pred.day[j])&(min_data.hour == df_pred.hour[j]), 'power'].values[0]\n",
    "        if df_pred.pred[j] < min_power:\n",
    "            pred_clip.append(min_power)\n",
    "        else:\n",
    "            pred_clip.append(df_pred.pred[j])"
   ]
  },
  {
   "cell_type": "markdown",
   "id": "ae6ee069-c7e2-4819-bbf6-f6c9a44cd4d1",
   "metadata": {
    "id": "ae6ee069-c7e2-4819-bbf6-f6c9a44cd4d1"
   },
   "source": [
    "##### 초록색으로 표시된 값이 원래의 예측값, 주황색이 후처리된 예측값입니다.\n",
    "##### 변동이 거의 없는 건물도 있으나, 유의미하게 바뀐 건물도 확인됩니다."
   ]
  },
  {
   "cell_type": "code",
   "execution_count": null,
   "id": "talented-saturn",
   "metadata": {
    "execution": {
     "iopub.status.busy": "2023-08-05T14:31:15.965255Z",
     "iopub.status.idle": "2023-08-05T14:31:15.965484Z",
     "shell.execute_reply": "2023-08-05T14:31:15.965382Z",
     "shell.execute_reply.started": "2023-08-05T14:31:15.965372Z"
    },
    "id": "talented-saturn"
   },
   "outputs": [],
   "source": [
    "pred_origin = df.answer\n",
    "pred_clip = pd.Series(pred_clip)\n",
    "\n",
    "for i in range(60):\n",
    "    power = train_to_post.loc[train_to_post.num == i+1, 'power'].reset_index(drop=True)\n",
    "    preds = pred_clip[i*168:(i+1)*168]\n",
    "    preds_origin = pred_origin[i*168:(i+1)*168]\n",
    "    preds.index = range(power.index[-1], power.index[-1]+168)\n",
    "    preds_origin.index = range(power.index[-1], power.index[-1]+168)\n",
    "\n",
    "    plot_series(power, preds,  preds_origin, markers = [',', ',', ','])"
   ]
  },
  {
   "cell_type": "markdown",
   "id": "22adefcf-a346-4ac9-b2af-4d23f2c2365f",
   "metadata": {
    "id": "22adefcf-a346-4ac9-b2af-4d23f2c2365f"
   },
   "source": [
    "#### create submission file"
   ]
  },
  {
   "cell_type": "code",
   "execution_count": null,
   "id": "presidential-planner",
   "metadata": {
    "execution": {
     "iopub.status.busy": "2023-08-05T14:31:15.966277Z",
     "iopub.status.idle": "2023-08-05T14:31:15.966480Z",
     "shell.execute_reply": "2023-08-05T14:31:15.966400Z",
     "shell.execute_reply.started": "2023-08-05T14:31:15.966391Z"
    },
    "id": "presidential-planner"
   },
   "outputs": [],
   "source": [
    "submission = pd.read_csv('./data/sample_submission.csv')\n",
    "submission['answer'] = pred_clip\n",
    "submission.to_csv('./submission//submission_xgb_final.csv', index = False)"
   ]
  }
 ],
 "metadata": {
  "accelerator": "GPU",
  "colab": {
   "machine_shape": "hm",
   "provenance": []
  },
  "kernelspec": {
   "display_name": "Python 3 (ipykernel)",
   "language": "python",
   "name": "python3"
  },
  "language_info": {
   "codemirror_mode": {
    "name": "ipython",
    "version": 3
   },
   "file_extension": ".py",
   "mimetype": "text/x-python",
   "name": "python",
   "nbconvert_exporter": "python",
   "pygments_lexer": "ipython3",
   "version": "3.9.16"
  }
 },
 "nbformat": 4,
 "nbformat_minor": 5
}
