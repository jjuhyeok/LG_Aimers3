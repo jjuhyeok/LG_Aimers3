{
 "cells": [
  {
   "cell_type": "markdown",
   "id": "f7444f30-0883-4a87-8e00-c5e5591a2a26",
   "metadata": {},
   "source": [
    "## Import"
   ]
  },
  {
   "cell_type": "code",
   "execution_count": 1,
   "id": "b85832b1-9f31-41e4-b934-cc260e5b3b1d",
   "metadata": {
    "execution": {
     "iopub.execute_input": "2023-08-08T08:13:11.950767Z",
     "iopub.status.busy": "2023-08-08T08:13:11.950116Z",
     "iopub.status.idle": "2023-08-08T08:13:14.212839Z",
     "shell.execute_reply": "2023-08-08T08:13:14.212137Z",
     "shell.execute_reply.started": "2023-08-08T08:13:11.950734Z"
    }
   },
   "outputs": [],
   "source": [
    "import random\n",
    "import os\n",
    "import pandas as pd\n",
    "import numpy as np\n",
    "from tqdm.auto import tqdm\n",
    "from sklearn.preprocessing import LabelEncoder\n",
    "\n",
    "import torch\n",
    "import torch.nn as nn\n",
    "import torch.optim as optim\n",
    "import torch.nn.functional as F\n",
    "from torch.utils.data import Dataset, DataLoader"
   ]
  },
  {
   "cell_type": "code",
   "execution_count": 2,
   "id": "b0259cfd-b37c-4716-aacf-c91d77e41480",
   "metadata": {
    "execution": {
     "iopub.execute_input": "2023-08-08T08:13:14.214259Z",
     "iopub.status.busy": "2023-08-08T08:13:14.213979Z",
     "iopub.status.idle": "2023-08-08T08:13:14.265346Z",
     "shell.execute_reply": "2023-08-08T08:13:14.264085Z",
     "shell.execute_reply.started": "2023-08-08T08:13:14.214240Z"
    }
   },
   "outputs": [],
   "source": [
    "device = torch.device('cuda') if torch.cuda.is_available() else torch.device('cpu')"
   ]
  },
  {
   "cell_type": "markdown",
   "id": "07c2d47b-e9da-47e5-9155-cce997e63481",
   "metadata": {},
   "source": [
    "## Hyperparameter Setting"
   ]
  },
  {
   "cell_type": "code",
   "execution_count": 3,
   "id": "c9f50013-6513-44fd-8e48-06dd12ec3f63",
   "metadata": {
    "execution": {
     "iopub.execute_input": "2023-08-08T08:13:14.266571Z",
     "iopub.status.busy": "2023-08-08T08:13:14.266383Z",
     "iopub.status.idle": "2023-08-08T08:13:14.424708Z",
     "shell.execute_reply": "2023-08-08T08:13:14.423822Z",
     "shell.execute_reply.started": "2023-08-08T08:13:14.266554Z"
    }
   },
   "outputs": [],
   "source": [
    "CFG = {\n",
    "    'TRAIN_WINDOW_SIZE':120, # 90일치로 학습\n",
    "    'PREDICT_SIZE':21, # 21일치 예측\n",
    "    'EPOCHS':30,\n",
    "    'LEARNING_RATE':1e-4,\n",
    "    'BATCH_SIZE':4096,\n",
    "    'SEED':41\n",
    "}"
   ]
  },
  {
   "cell_type": "code",
   "execution_count": 4,
   "id": "44cdbe67-eda2-42ef-bc35-0a2bfd99f211",
   "metadata": {
    "execution": {
     "iopub.execute_input": "2023-08-08T08:13:14.425814Z",
     "iopub.status.busy": "2023-08-08T08:13:14.425617Z",
     "iopub.status.idle": "2023-08-08T08:13:14.430790Z",
     "shell.execute_reply": "2023-08-08T08:13:14.430112Z",
     "shell.execute_reply.started": "2023-08-08T08:13:14.425795Z"
    }
   },
   "outputs": [],
   "source": [
    "def seed_everything(seed):\n",
    "    random.seed(seed)\n",
    "    os.environ['PYTHONHASHSEED'] = str(seed)\n",
    "    np.random.seed(seed)\n",
    "    torch.manual_seed(seed)\n",
    "    torch.cuda.manual_seed(seed)\n",
    "    torch.backends.cudnn.deterministic = True\n",
    "    torch.backends.cudnn.benchmark = True\n",
    "\n",
    "seed_everything(CFG['SEED']) # Seed 고정"
   ]
  },
  {
   "cell_type": "markdown",
   "id": "7d68c38e",
   "metadata": {},
   "source": [
    "### 데이터 불러오기"
   ]
  },
  {
   "cell_type": "code",
   "execution_count": 5,
   "id": "e3b89389",
   "metadata": {
    "execution": {
     "iopub.execute_input": "2023-08-08T08:13:14.432564Z",
     "iopub.status.busy": "2023-08-08T08:13:14.432389Z",
     "iopub.status.idle": "2023-08-08T08:13:14.867372Z",
     "shell.execute_reply": "2023-08-08T08:13:14.866494Z",
     "shell.execute_reply.started": "2023-08-08T08:13:14.432549Z"
    }
   },
   "outputs": [],
   "source": [
    "train_data = pd.read_csv('./train.csv').drop(columns=['ID', '제품'])"
   ]
  },
  {
   "cell_type": "markdown",
   "id": "d21e80a6",
   "metadata": {},
   "source": [
    "### 데이터 전처리"
   ]
  },
  {
   "cell_type": "code",
   "execution_count": 6,
   "id": "9509bd54-9333-4ec7-b197-b70d3c1408ef",
   "metadata": {
    "execution": {
     "iopub.execute_input": "2023-08-08T08:13:14.868551Z",
     "iopub.status.busy": "2023-08-08T08:13:14.868334Z",
     "iopub.status.idle": "2023-08-08T08:13:18.898424Z",
     "shell.execute_reply": "2023-08-08T08:13:18.897681Z",
     "shell.execute_reply.started": "2023-08-08T08:13:14.868532Z"
    }
   },
   "outputs": [],
   "source": [
    "# 숫자형 변수들의 min-max scaling을 수행하는 코드입니다.\n",
    "numeric_cols = train_data.columns[4:]\n",
    "# 칵 column의 min 및 max 계산\n",
    "min_values = train_data[numeric_cols].min(axis=1)\n",
    "max_values = train_data[numeric_cols].max(axis=1)\n",
    "# 각 행의 범위(max-min)를 계산하고, 범위가 0인 경우 1로 대체\n",
    "ranges = max_values - min_values\n",
    "ranges[ranges == 0] = 1\n",
    "# min-max scaling 수행\n",
    "train_data[numeric_cols] = (train_data[numeric_cols].subtract(min_values, axis=0)).div(ranges, axis=0)\n",
    "# max와 min 값을 dictionary 형태로 저장\n",
    "scale_min_dict = min_values.to_dict()\n",
    "scale_max_dict = max_values.to_dict()"
   ]
  },
  {
   "cell_type": "code",
   "execution_count": 7,
   "id": "7c83c51b-f979-4930-9372-f03bdb33abc5",
   "metadata": {
    "execution": {
     "iopub.execute_input": "2023-08-08T08:13:18.899991Z",
     "iopub.status.busy": "2023-08-08T08:13:18.899376Z",
     "iopub.status.idle": "2023-08-08T08:13:18.914887Z",
     "shell.execute_reply": "2023-08-08T08:13:18.914296Z",
     "shell.execute_reply.started": "2023-08-08T08:13:18.899966Z"
    }
   },
   "outputs": [],
   "source": [
    "# Label Encoding\n",
    "label_encoder = LabelEncoder()\n",
    "categorical_columns = ['대분류', '중분류', '소분류', '브랜드']\n",
    "\n",
    "for col in categorical_columns:\n",
    "    label_encoder.fit(train_data[col])\n",
    "    train_data[col] = label_encoder.transform(train_data[col])"
   ]
  },
  {
   "cell_type": "code",
   "execution_count": 8,
   "id": "debff992-a1f4-4ade-b2e9-45b234e44412",
   "metadata": {
    "execution": {
     "iopub.execute_input": "2023-08-08T08:13:18.915834Z",
     "iopub.status.busy": "2023-08-08T08:13:18.915658Z",
     "iopub.status.idle": "2023-08-08T08:13:18.921492Z",
     "shell.execute_reply": "2023-08-08T08:13:18.920952Z",
     "shell.execute_reply.started": "2023-08-08T08:13:18.915818Z"
    }
   },
   "outputs": [],
   "source": [
    "def make_train_data(data, train_size=CFG['TRAIN_WINDOW_SIZE'], predict_size=CFG['PREDICT_SIZE']):\n",
    "    '''\n",
    "    학습 기간 블럭, 예측 기간 블럭의 세트로 데이터를 생성\n",
    "    data : 일별 판매량\n",
    "    train_size : 학습에 활용할 기간\n",
    "    predict_size : 추론할 기간\n",
    "    '''\n",
    "    num_rows = len(data)\n",
    "    window_size = train_size + predict_size\n",
    "    \n",
    "    input_data = np.empty((num_rows * (len(data.columns) - window_size + 1), train_size, len(data.iloc[0, :4]) + 1))\n",
    "    target_data = np.empty((num_rows * (len(data.columns) - window_size + 1), predict_size))\n",
    "    \n",
    "    for i in tqdm(range(num_rows)):\n",
    "        encode_info = np.array(data.iloc[i, :4])\n",
    "        sales_data = np.array(data.iloc[i, 4:])\n",
    "        \n",
    "        for j in range(len(sales_data) - window_size + 1):\n",
    "            window = sales_data[j : j + window_size]\n",
    "            temp_data = np.column_stack((np.tile(encode_info, (train_size, 1)), window[:train_size]))\n",
    "            input_data[i * (len(data.columns) - window_size + 1) + j] = temp_data\n",
    "            target_data[i * (len(data.columns) - window_size + 1) + j] = window[train_size:]\n",
    "    \n",
    "    return input_data, target_data"
   ]
  },
  {
   "cell_type": "code",
   "execution_count": 9,
   "id": "9bf39b0f-64f4-4126-9a3d-da5de9f624d5",
   "metadata": {
    "execution": {
     "iopub.execute_input": "2023-08-08T08:13:18.922323Z",
     "iopub.status.busy": "2023-08-08T08:13:18.922170Z",
     "iopub.status.idle": "2023-08-08T08:13:18.926500Z",
     "shell.execute_reply": "2023-08-08T08:13:18.926033Z",
     "shell.execute_reply.started": "2023-08-08T08:13:18.922308Z"
    }
   },
   "outputs": [],
   "source": [
    "def make_predict_data(data, train_size=CFG['TRAIN_WINDOW_SIZE']):\n",
    "    '''\n",
    "    평가 데이터(Test Dataset)를 추론하기 위한 Input 데이터를 생성\n",
    "    data : 일별 판매량\n",
    "    train_size : 추론을 위해 필요한 일별 판매량 기간 (= 학습에 활용할 기간)\n",
    "    '''\n",
    "    num_rows = len(data)\n",
    "    \n",
    "    input_data = np.empty((num_rows, train_size, len(data.iloc[0, :4]) + 1))\n",
    "    \n",
    "    for i in tqdm(range(num_rows)):\n",
    "        encode_info = np.array(data.iloc[i, :4])\n",
    "        sales_data = np.array(data.iloc[i, -train_size:])\n",
    "        \n",
    "        window = sales_data[-train_size : ]\n",
    "        temp_data = np.column_stack((np.tile(encode_info, (train_size, 1)), window[:train_size]))\n",
    "        input_data[i] = temp_data\n",
    "    \n",
    "    return input_data"
   ]
  },
  {
   "cell_type": "code",
   "execution_count": 10,
   "id": "3c203f18-dfe9-430a-8082-f1143267b296",
   "metadata": {
    "execution": {
     "iopub.execute_input": "2023-08-08T08:13:18.927450Z",
     "iopub.status.busy": "2023-08-08T08:13:18.927239Z",
     "iopub.status.idle": "2023-08-08T08:14:41.238197Z",
     "shell.execute_reply": "2023-08-08T08:14:41.237538Z",
     "shell.execute_reply.started": "2023-08-08T08:13:18.927434Z"
    }
   },
   "outputs": [
    {
     "data": {
      "application/vnd.jupyter.widget-view+json": {
       "model_id": "baa79a7be1af473fb32bfc31c1a37272",
       "version_major": 2,
       "version_minor": 0
      },
      "text/plain": [
       "  0%|          | 0/15890 [00:00<?, ?it/s]"
      ]
     },
     "metadata": {},
     "output_type": "display_data"
    },
    {
     "data": {
      "application/vnd.jupyter.widget-view+json": {
       "model_id": "1dd7824c25364a66aac07e442b509147",
       "version_major": 2,
       "version_minor": 0
      },
      "text/plain": [
       "  0%|          | 0/15890 [00:00<?, ?it/s]"
      ]
     },
     "metadata": {},
     "output_type": "display_data"
    }
   ],
   "source": [
    "train_input, train_target = make_train_data(train_data)\n",
    "test_input = make_predict_data(train_data)"
   ]
  },
  {
   "cell_type": "code",
   "execution_count": 11,
   "id": "3c710abd-1be0-4926-803f-c732d7bffdb5",
   "metadata": {
    "execution": {
     "iopub.execute_input": "2023-08-08T08:14:41.239545Z",
     "iopub.status.busy": "2023-08-08T08:14:41.239074Z",
     "iopub.status.idle": "2023-08-08T08:14:41.243192Z",
     "shell.execute_reply": "2023-08-08T08:14:41.242497Z",
     "shell.execute_reply.started": "2023-08-08T08:14:41.239526Z"
    }
   },
   "outputs": [],
   "source": [
    "# Train / Validation Split\n",
    "data_len = len(train_input)\n",
    "val_input = train_input[-int(data_len*0.2):]\n",
    "val_target = train_target[-int(data_len*0.2):]\n",
    "train_input = train_input[:-int(data_len*0.2)]\n",
    "train_target = train_target[:-int(data_len*0.2)]"
   ]
  },
  {
   "cell_type": "code",
   "execution_count": 12,
   "id": "3be176ad-ccc8-425c-9627-f583c0647489",
   "metadata": {
    "execution": {
     "iopub.execute_input": "2023-08-08T08:14:41.244459Z",
     "iopub.status.busy": "2023-08-08T08:14:41.244074Z",
     "iopub.status.idle": "2023-08-08T08:14:41.248788Z",
     "shell.execute_reply": "2023-08-08T08:14:41.248019Z",
     "shell.execute_reply.started": "2023-08-08T08:14:41.244436Z"
    }
   },
   "outputs": [
    {
     "data": {
      "text/plain": [
       "((4105976, 120, 5),\n",
       " (4105976, 21),\n",
       " (1026494, 120, 5),\n",
       " (1026494, 21),\n",
       " (15890, 120, 5))"
      ]
     },
     "execution_count": 12,
     "metadata": {},
     "output_type": "execute_result"
    }
   ],
   "source": [
    "train_input.shape, train_target.shape, val_input.shape, val_target.shape, test_input.shape"
   ]
  },
  {
   "cell_type": "markdown",
   "id": "3b2f3d76-fcf4-4866-a578-6bb76783bbed",
   "metadata": {},
   "source": [
    "### Custom Dataset"
   ]
  },
  {
   "cell_type": "code",
   "execution_count": 13,
   "id": "4ec0a970-4d99-486d-b9b5-210f3cdca353",
   "metadata": {
    "execution": {
     "iopub.execute_input": "2023-08-08T08:14:41.249882Z",
     "iopub.status.busy": "2023-08-08T08:14:41.249508Z",
     "iopub.status.idle": "2023-08-08T08:14:41.253477Z",
     "shell.execute_reply": "2023-08-08T08:14:41.252787Z",
     "shell.execute_reply.started": "2023-08-08T08:14:41.249864Z"
    }
   },
   "outputs": [],
   "source": [
    "class CustomDataset(Dataset):\n",
    "    def __init__(self, X, Y):\n",
    "        self.X = X\n",
    "        self.Y = Y\n",
    "        \n",
    "    def __getitem__(self, index):\n",
    "        if self.Y is not None:\n",
    "            return torch.Tensor(self.X[index]), torch.Tensor(self.Y[index])\n",
    "        return torch.Tensor(self.X[index])\n",
    "    \n",
    "    def __len__(self):\n",
    "        return len(self.X)"
   ]
  },
  {
   "cell_type": "code",
   "execution_count": 14,
   "id": "3614347b-da14-466f-9d04-b81e5448a9bd",
   "metadata": {
    "execution": {
     "iopub.execute_input": "2023-08-08T08:14:41.256197Z",
     "iopub.status.busy": "2023-08-08T08:14:41.255810Z",
     "iopub.status.idle": "2023-08-08T08:14:41.259617Z",
     "shell.execute_reply": "2023-08-08T08:14:41.258965Z",
     "shell.execute_reply.started": "2023-08-08T08:14:41.256179Z"
    }
   },
   "outputs": [],
   "source": [
    "train_dataset = CustomDataset(train_input, train_target)\n",
    "train_loader = DataLoader(train_dataset, batch_size = CFG['BATCH_SIZE'], shuffle=True, num_workers=0)\n",
    "\n",
    "val_dataset = CustomDataset(val_input, val_target)\n",
    "val_loader = DataLoader(val_dataset, batch_size = CFG['BATCH_SIZE'], shuffle=False, num_workers=0)"
   ]
  },
  {
   "cell_type": "markdown",
   "id": "c63f0b66-817d-49ff-9163-a975fb0f239d",
   "metadata": {},
   "source": [
    "### 모델 선언"
   ]
  },
  {
   "cell_type": "code",
   "execution_count": 15,
   "id": "666feeb8-d906-496e-a018-46c8fc473a1e",
   "metadata": {
    "execution": {
     "iopub.execute_input": "2023-08-08T08:14:41.260452Z",
     "iopub.status.busy": "2023-08-08T08:14:41.260293Z",
     "iopub.status.idle": "2023-08-08T08:14:41.266219Z",
     "shell.execute_reply": "2023-08-08T08:14:41.265525Z",
     "shell.execute_reply.started": "2023-08-08T08:14:41.260438Z"
    }
   },
   "outputs": [],
   "source": [
    "import torch.nn as nn\n",
    "\n",
    "class BaseModel(nn.Module):\n",
    "    def __init__(self, input_size=5, hidden_size=512, output_size=CFG['PREDICT_SIZE']):\n",
    "        super(BaseModel, self).__init__()\n",
    "        self.hidden_size = hidden_size\n",
    "        self.lstm = nn.LSTM(input_size, hidden_size, batch_first=True, bidirectional=True)  # Bidirectional LSTM\n",
    "        self.fc = nn.Sequential(\n",
    "            nn.Linear(hidden_size * 2, hidden_size // 2),  # Since it's bidirectional, output size is doubled\n",
    "            nn.ReLU(),\n",
    "            nn.Dropout(),\n",
    "            nn.Linear(hidden_size // 2, output_size)\n",
    "        )\n",
    "        self.actv = nn.ReLU()\n",
    "\n",
    "    def forward(self, x):\n",
    "        batch_size = x.size(0)\n",
    "        hidden = self.init_hidden(batch_size, x.device)\n",
    "\n",
    "        lstm_out, hidden = self.lstm(x, hidden)\n",
    "\n",
    "        # Concatenate the last forward and last backward output sequences\n",
    "        last_output = torch.cat((lstm_out[:, -1, :self.hidden_size], lstm_out[:, 0, self.hidden_size:]), dim=1)\n",
    "\n",
    "        output = self.actv(self.fc(last_output))\n",
    "\n",
    "        return output.squeeze(1)\n",
    "\n",
    "    def init_hidden(self, batch_size, device):\n",
    "        return (torch.zeros(2, batch_size, self.hidden_size, device=device),  # Bidirectional LSTM has 2 directions\n",
    "                torch.zeros(2, batch_size, self.hidden_size, device=device))\n"
   ]
  },
  {
   "cell_type": "markdown",
   "id": "b4f79f7d",
   "metadata": {},
   "source": [
    "### 모델 학습"
   ]
  },
  {
   "cell_type": "code",
   "execution_count": 16,
   "id": "ff73d757-32d5-4868-afbb-1b9f2ea13826",
   "metadata": {
    "execution": {
     "iopub.execute_input": "2023-08-08T08:14:41.267230Z",
     "iopub.status.busy": "2023-08-08T08:14:41.266968Z",
     "iopub.status.idle": "2023-08-08T08:14:41.271988Z",
     "shell.execute_reply": "2023-08-08T08:14:41.271327Z",
     "shell.execute_reply.started": "2023-08-08T08:14:41.267214Z"
    }
   },
   "outputs": [],
   "source": [
    "def train(model, optimizer, train_loader, val_loader, device):\n",
    "    model.to(device)\n",
    "    criterion = nn.MSELoss().to(device)\n",
    "    best_loss = 9999999\n",
    "    best_model = None\n",
    "    \n",
    "    for epoch in range(1, CFG['EPOCHS']+1):\n",
    "        model.train()\n",
    "        train_loss = []\n",
    "        train_mae = []\n",
    "        for X, Y in tqdm(iter(train_loader)):\n",
    "            X = X.to(device)\n",
    "            Y = Y.to(device)\n",
    "            \n",
    "            optimizer.zero_grad()\n",
    "            \n",
    "            output = model(X)\n",
    "            loss = criterion(output, Y)\n",
    "            \n",
    "            loss.backward()\n",
    "            optimizer.step()\n",
    "            \n",
    "            train_loss.append(loss.item())\n",
    "        \n",
    "        val_loss = validation(model, val_loader, device, scale_max_dict, scale_min_dict)\n",
    "        print(f'Epoch : [{epoch}] Train Loss : [{np.mean(train_loss):.5f}] Val Loss : [{val_loss:.5f}]')\n",
    "        \n",
    "        if best_loss > val_loss:\n",
    "            best_loss = val_loss\n",
    "            best_model = model\n",
    "            print('Model Saved')\n",
    "    return best_model"
   ]
  },
  {
   "cell_type": "code",
   "execution_count": 17,
   "id": "c0cc37f7-4e0f-4b38-be05-d79d6e397f0b",
   "metadata": {
    "execution": {
     "iopub.execute_input": "2023-08-08T08:14:41.273225Z",
     "iopub.status.busy": "2023-08-08T08:14:41.272866Z",
     "iopub.status.idle": "2023-08-08T08:14:41.342449Z",
     "shell.execute_reply": "2023-08-08T08:14:41.341795Z",
     "shell.execute_reply.started": "2023-08-08T08:14:41.273210Z"
    }
   },
   "outputs": [
    {
     "data": {
      "text/plain": [
       "dict_keys([1, 2, 0, 4, 3])"
      ]
     },
     "execution_count": 17,
     "metadata": {},
     "output_type": "execute_result"
    }
   ],
   "source": [
    "indexs_bigcat={}\n",
    "for bigcat in train_data['대분류'].unique():\n",
    "    indexs_bigcat[bigcat] = list(train_data.loc[train_data['대분류']==bigcat].index)\n",
    "\n",
    "indexs_bigcat.keys()"
   ]
  },
  {
   "cell_type": "code",
   "execution_count": 18,
   "id": "a362b1bb-ef7b-42bd-a06b-183e8ec22ab8",
   "metadata": {
    "execution": {
     "iopub.execute_input": "2023-08-08T08:14:41.343755Z",
     "iopub.status.busy": "2023-08-08T08:14:41.343288Z",
     "iopub.status.idle": "2023-08-08T08:14:41.348605Z",
     "shell.execute_reply": "2023-08-08T08:14:41.347936Z",
     "shell.execute_reply.started": "2023-08-08T08:14:41.343736Z"
    }
   },
   "outputs": [],
   "source": [
    "def PSFA(pred, target): \n",
    "    PSFA = 1\n",
    "    for cat in range(5):\n",
    "        ids = indexs_bigcat[cat]\n",
    "        for day in range(21):\n",
    "            total_sell = np.sum(target[ids, day]) # day별 총 판매량\n",
    "            pred_values = pred[ids, day] # day별 예측 판매량\n",
    "            target_values = target[ids, day] # day별 실제 판매량\n",
    "            \n",
    "            # 실제 판매와 예측 판매가 같은 경우 오차가 없는 것으로 간주 \n",
    "            denominator = np.maximum(target_values, pred_values)\n",
    "            diffs = np.where(denominator!=0, np.abs(target_values - pred_values) / denominator, 0)\n",
    "            \n",
    "            if total_sell != 0:\n",
    "                sell_weights = target_values / total_sell  # Item별 day 총 판매량 내 비중\n",
    "            else:\n",
    "                sell_weights = np.ones_like(target_values) / len(ids)  # 1 / len(ids)로 대체\n",
    "                \n",
    "            if not np.isnan(diffs).any():  # diffs에 NaN이 없는 경우에만 PSFA 값 업데이트\n",
    "                PSFA -= np.sum(diffs * sell_weights) / (21 * 5)\n",
    "            \n",
    "            \n",
    "    return PSFA"
   ]
  },
  {
   "cell_type": "code",
   "execution_count": 19,
   "id": "3229bd6d-8e03-4296-a7f1-b4ae038cead1",
   "metadata": {
    "execution": {
     "iopub.execute_input": "2023-08-08T08:14:41.349456Z",
     "iopub.status.busy": "2023-08-08T08:14:41.349289Z",
     "iopub.status.idle": "2023-08-08T08:14:41.353398Z",
     "shell.execute_reply": "2023-08-08T08:14:41.352812Z",
     "shell.execute_reply.started": "2023-08-08T08:14:41.349441Z"
    }
   },
   "outputs": [
    {
     "data": {
      "text/plain": [
       "15890"
      ]
     },
     "execution_count": 19,
     "metadata": {},
     "output_type": "execute_result"
    }
   ],
   "source": [
    "len(scale_max_dict)"
   ]
  },
  {
   "cell_type": "code",
   "execution_count": 20,
   "id": "7e41a326-b898-4d61-a113-120a4aa45bfa",
   "metadata": {
    "execution": {
     "iopub.execute_input": "2023-08-08T08:14:41.354227Z",
     "iopub.status.busy": "2023-08-08T08:14:41.354075Z",
     "iopub.status.idle": "2023-08-08T08:14:41.357938Z",
     "shell.execute_reply": "2023-08-08T08:14:41.357407Z",
     "shell.execute_reply.started": "2023-08-08T08:14:41.354213Z"
    }
   },
   "outputs": [
    {
     "data": {
      "text/plain": [
       "15890"
      ]
     },
     "execution_count": 20,
     "metadata": {},
     "output_type": "execute_result"
    }
   ],
   "source": [
    "len(scale_min_dict)"
   ]
  },
  {
   "cell_type": "code",
   "execution_count": 21,
   "id": "bbe1802a-35ff-4b43-a1a8-16c8079baf68",
   "metadata": {
    "execution": {
     "iopub.execute_input": "2023-08-08T08:14:41.358863Z",
     "iopub.status.busy": "2023-08-08T08:14:41.358706Z",
     "iopub.status.idle": "2023-08-08T08:14:41.363627Z",
     "shell.execute_reply": "2023-08-08T08:14:41.362972Z",
     "shell.execute_reply.started": "2023-08-08T08:14:41.358849Z"
    }
   },
   "outputs": [],
   "source": [
    "def validation(model, val_loader, device, scale_max_dict, sacle_min_dict):\n",
    "    pred = []\n",
    "    target = []\n",
    "    \n",
    "    with torch.no_grad():\n",
    "        for X, Y in iter(val_loader):\n",
    "            X = X.to(device)\n",
    "            Y = Y.to(device)\n",
    "            \n",
    "            Y = Y.cpu().numpy()\n",
    "            target.extend(Y)\n",
    "            \n",
    "            output = model(X)\n",
    "            output = output.cpu().numpy()\n",
    "            pred.extend(output)\n",
    "            \n",
    "    pred = np.array(pred)\n",
    "    target = np.array(target)\n",
    "    \n",
    "    # 추론 결과를 inverse scaling\n",
    "    for idx in range(len(pred)):\n",
    "        pred[idx, :] = pred[idx, :] * (scale_max_dict[idx] - scale_min_dict[idx]) + scale_min_dict[idx]\n",
    "        target[idx, :] = target[idx, :] * (scale_max_dict[idx] - scale_min_dict[idx]) + scale_min_dict[idx]\n",
    "\n",
    "    # 결과 후처리\n",
    "    pred = np.round(pred, 0).astype(int)\n",
    "    target = np.round(target, 0).astype(int)\n",
    "            \n",
    "    return PSFA(pred, target)"
   ]
  },
  {
   "cell_type": "markdown",
   "id": "1c83fa73-30d5-489c-852b-d655f76a200c",
   "metadata": {},
   "source": [
    "## Run !!"
   ]
  },
  {
   "cell_type": "code",
   "execution_count": 22,
   "id": "a1570b00-a309-4e5e-b53d-5848ba53eb19",
   "metadata": {
    "execution": {
     "iopub.execute_input": "2023-08-08T08:14:41.364778Z",
     "iopub.status.busy": "2023-08-08T08:14:41.364585Z",
     "iopub.status.idle": "2023-08-08T08:22:09.624699Z",
     "shell.execute_reply": "2023-08-08T08:22:09.624049Z",
     "shell.execute_reply.started": "2023-08-08T08:14:41.364763Z"
    }
   },
   "outputs": [
    {
     "data": {
      "application/vnd.jupyter.widget-view+json": {
       "model_id": "e12c416de395483e9c5504dec25b2f83",
       "version_major": 2,
       "version_minor": 0
      },
      "text/plain": [
       "  0%|          | 0/1003 [00:00<?, ?it/s]"
      ]
     },
     "metadata": {},
     "output_type": "display_data"
    },
    {
     "ename": "KeyError",
     "evalue": "15890",
     "output_type": "error",
     "traceback": [
      "\u001b[0;31m---------------------------------------------------------------------------\u001b[0m",
      "\u001b[0;31mKeyError\u001b[0m                                  Traceback (most recent call last)",
      "Cell \u001b[0;32mIn [22], line 3\u001b[0m\n\u001b[1;32m      1\u001b[0m model \u001b[38;5;241m=\u001b[39m BaseModel()\n\u001b[1;32m      2\u001b[0m optimizer \u001b[38;5;241m=\u001b[39m torch\u001b[38;5;241m.\u001b[39moptim\u001b[38;5;241m.\u001b[39mAdam(params \u001b[38;5;241m=\u001b[39m model\u001b[38;5;241m.\u001b[39mparameters(), lr \u001b[38;5;241m=\u001b[39m CFG[\u001b[38;5;124m\"\u001b[39m\u001b[38;5;124mLEARNING_RATE\u001b[39m\u001b[38;5;124m\"\u001b[39m])\n\u001b[0;32m----> 3\u001b[0m infer_model \u001b[38;5;241m=\u001b[39m \u001b[43mtrain\u001b[49m\u001b[43m(\u001b[49m\u001b[43mmodel\u001b[49m\u001b[43m,\u001b[49m\u001b[43m \u001b[49m\u001b[43moptimizer\u001b[49m\u001b[43m,\u001b[49m\u001b[43m \u001b[49m\u001b[43mtrain_loader\u001b[49m\u001b[43m,\u001b[49m\u001b[43m \u001b[49m\u001b[43mval_loader\u001b[49m\u001b[43m,\u001b[49m\u001b[43m \u001b[49m\u001b[43mdevice\u001b[49m\u001b[43m)\u001b[49m\n",
      "Cell \u001b[0;32mIn [16], line 25\u001b[0m, in \u001b[0;36mtrain\u001b[0;34m(model, optimizer, train_loader, val_loader, device)\u001b[0m\n\u001b[1;32m     21\u001b[0m     optimizer\u001b[38;5;241m.\u001b[39mstep()\n\u001b[1;32m     23\u001b[0m     train_loss\u001b[38;5;241m.\u001b[39mappend(loss\u001b[38;5;241m.\u001b[39mitem())\n\u001b[0;32m---> 25\u001b[0m val_loss \u001b[38;5;241m=\u001b[39m \u001b[43mvalidation\u001b[49m\u001b[43m(\u001b[49m\u001b[43mmodel\u001b[49m\u001b[43m,\u001b[49m\u001b[43m \u001b[49m\u001b[43mval_loader\u001b[49m\u001b[43m,\u001b[49m\u001b[43m \u001b[49m\u001b[43mdevice\u001b[49m\u001b[43m,\u001b[49m\u001b[43m \u001b[49m\u001b[43mscale_max_dict\u001b[49m\u001b[43m,\u001b[49m\u001b[43m \u001b[49m\u001b[43mscale_min_dict\u001b[49m\u001b[43m)\u001b[49m\n\u001b[1;32m     26\u001b[0m \u001b[38;5;28mprint\u001b[39m(\u001b[38;5;124mf\u001b[39m\u001b[38;5;124m'\u001b[39m\u001b[38;5;124mEpoch : [\u001b[39m\u001b[38;5;132;01m{\u001b[39;00mepoch\u001b[38;5;132;01m}\u001b[39;00m\u001b[38;5;124m] Train Loss : [\u001b[39m\u001b[38;5;132;01m{\u001b[39;00mnp\u001b[38;5;241m.\u001b[39mmean(train_loss)\u001b[38;5;132;01m:\u001b[39;00m\u001b[38;5;124m.5f\u001b[39m\u001b[38;5;132;01m}\u001b[39;00m\u001b[38;5;124m] Val Loss : [\u001b[39m\u001b[38;5;132;01m{\u001b[39;00mval_loss\u001b[38;5;132;01m:\u001b[39;00m\u001b[38;5;124m.5f\u001b[39m\u001b[38;5;132;01m}\u001b[39;00m\u001b[38;5;124m]\u001b[39m\u001b[38;5;124m'\u001b[39m)\n\u001b[1;32m     28\u001b[0m \u001b[38;5;28;01mif\u001b[39;00m best_loss \u001b[38;5;241m>\u001b[39m val_loss:\n",
      "Cell \u001b[0;32mIn [21], line 22\u001b[0m, in \u001b[0;36mvalidation\u001b[0;34m(model, val_loader, device, scale_max_dict, sacle_min_dict)\u001b[0m\n\u001b[1;32m     20\u001b[0m \u001b[38;5;66;03m# 추론 결과를 inverse scaling\u001b[39;00m\n\u001b[1;32m     21\u001b[0m \u001b[38;5;28;01mfor\u001b[39;00m idx \u001b[38;5;129;01min\u001b[39;00m \u001b[38;5;28mrange\u001b[39m(\u001b[38;5;28mlen\u001b[39m(pred)):\n\u001b[0;32m---> 22\u001b[0m     pred[idx, :] \u001b[38;5;241m=\u001b[39m pred[idx, :] \u001b[38;5;241m*\u001b[39m (\u001b[43mscale_max_dict\u001b[49m\u001b[43m[\u001b[49m\u001b[43midx\u001b[49m\u001b[43m]\u001b[49m \u001b[38;5;241m-\u001b[39m scale_min_dict[idx]) \u001b[38;5;241m+\u001b[39m scale_min_dict[idx]\n\u001b[1;32m     23\u001b[0m     target[idx, :] \u001b[38;5;241m=\u001b[39m target[idx, :] \u001b[38;5;241m*\u001b[39m (scale_max_dict[idx] \u001b[38;5;241m-\u001b[39m scale_min_dict[idx]) \u001b[38;5;241m+\u001b[39m scale_min_dict[idx]\n\u001b[1;32m     25\u001b[0m \u001b[38;5;66;03m# 결과 후처리\u001b[39;00m\n",
      "\u001b[0;31mKeyError\u001b[0m: 15890"
     ]
    }
   ],
   "source": [
    "model = BaseModel()\n",
    "optimizer = torch.optim.Adam(params = model.parameters(), lr = CFG[\"LEARNING_RATE\"])\n",
    "infer_model = train(model, optimizer, train_loader, val_loader, device)"
   ]
  },
  {
   "cell_type": "markdown",
   "id": "36b20af7-f5b1-4a7a-8eb9-7dde5bbf3d04",
   "metadata": {},
   "source": [
    "## 모델 추론"
   ]
  },
  {
   "cell_type": "code",
   "execution_count": null,
   "id": "b01d7ca0-899e-4515-a43e-890549f8f3c7",
   "metadata": {
    "execution": {
     "iopub.status.busy": "2023-08-08T08:22:09.625247Z",
     "iopub.status.idle": "2023-08-08T08:22:09.626050Z",
     "shell.execute_reply": "2023-08-08T08:22:09.625935Z",
     "shell.execute_reply.started": "2023-08-08T08:22:09.625919Z"
    }
   },
   "outputs": [],
   "source": [
    "test_dataset = CustomDataset(test_input, None)\n",
    "test_loader = DataLoader(test_dataset, batch_size = CFG['BATCH_SIZE'], shuffle=False, num_workers=0)"
   ]
  },
  {
   "cell_type": "code",
   "execution_count": null,
   "id": "214f30d4-2b19-479f-89b7-bf5bb2adc111",
   "metadata": {
    "execution": {
     "iopub.status.busy": "2023-08-08T08:22:09.626616Z",
     "iopub.status.idle": "2023-08-08T08:22:09.627145Z",
     "shell.execute_reply": "2023-08-08T08:22:09.627051Z",
     "shell.execute_reply.started": "2023-08-08T08:22:09.627038Z"
    }
   },
   "outputs": [],
   "source": [
    "def inference(model, test_loader, device):\n",
    "    predictions = []\n",
    "    \n",
    "    with torch.no_grad():\n",
    "        for X in tqdm(iter(test_loader)):\n",
    "            X = X.to(device)\n",
    "            \n",
    "            output = model(X)\n",
    "            \n",
    "            # 모델 출력인 output을 CPU로 이동하고 numpy 배열로 변환\n",
    "            output = output.cpu().numpy()\n",
    "            \n",
    "            predictions.extend(output)\n",
    "    \n",
    "    return np.array(predictions)"
   ]
  },
  {
   "cell_type": "code",
   "execution_count": null,
   "id": "6b76e053-6fd2-44a7-8631-d903e7ffa292",
   "metadata": {
    "execution": {
     "iopub.status.busy": "2023-08-08T08:22:09.627602Z",
     "iopub.status.idle": "2023-08-08T08:22:09.628107Z",
     "shell.execute_reply": "2023-08-08T08:22:09.628018Z",
     "shell.execute_reply.started": "2023-08-08T08:22:09.628007Z"
    }
   },
   "outputs": [],
   "source": [
    "pred = inference(infer_model, test_loader, device)"
   ]
  },
  {
   "cell_type": "code",
   "execution_count": null,
   "id": "517978aa-445a-4ece-9217-432682f71230",
   "metadata": {
    "execution": {
     "iopub.status.busy": "2023-08-08T08:22:09.628561Z",
     "iopub.status.idle": "2023-08-08T08:22:09.629080Z",
     "shell.execute_reply": "2023-08-08T08:22:09.628990Z",
     "shell.execute_reply.started": "2023-08-08T08:22:09.628979Z"
    }
   },
   "outputs": [],
   "source": [
    "# 추론 결과를 inverse scaling\n",
    "for idx in range(len(pred)):\n",
    "    pred[idx, :] = pred[idx, :] * (scale_max_dict[idx] - scale_min_dict[idx]) + scale_min_dict[idx]\n",
    "    \n",
    "# 결과 후처리\n",
    "pred = np.round(pred, 0).astype(int)"
   ]
  },
  {
   "cell_type": "code",
   "execution_count": null,
   "id": "c90fa77e-fd03-4539-98fe-563fe2a25121",
   "metadata": {
    "execution": {
     "iopub.status.busy": "2023-08-08T08:22:09.629515Z",
     "iopub.status.idle": "2023-08-08T08:22:09.630000Z",
     "shell.execute_reply": "2023-08-08T08:22:09.629910Z",
     "shell.execute_reply.started": "2023-08-08T08:22:09.629899Z"
    }
   },
   "outputs": [],
   "source": [
    "pred.shape"
   ]
  },
  {
   "cell_type": "markdown",
   "id": "a48b50eb-d2d8-4c2d-a5e7-9607220fd794",
   "metadata": {},
   "source": [
    "## Submission"
   ]
  },
  {
   "cell_type": "code",
   "execution_count": null,
   "id": "b78c84bb-5dbe-4fb3-aff0-7e229ae29a8d",
   "metadata": {
    "execution": {
     "iopub.status.busy": "2023-08-08T08:22:09.630435Z",
     "iopub.status.idle": "2023-08-08T08:22:09.630901Z",
     "shell.execute_reply": "2023-08-08T08:22:09.630816Z",
     "shell.execute_reply.started": "2023-08-08T08:22:09.630804Z"
    }
   },
   "outputs": [],
   "source": [
    "submit = pd.read_csv('./sample_submission.csv')\n",
    "submit.head()"
   ]
  },
  {
   "cell_type": "code",
   "execution_count": null,
   "id": "2db62d9c-b3ad-440a-8cc7-4897b2e4860f",
   "metadata": {
    "execution": {
     "iopub.status.busy": "2023-08-08T08:22:09.631347Z",
     "iopub.status.idle": "2023-08-08T08:22:09.631854Z",
     "shell.execute_reply": "2023-08-08T08:22:09.631762Z",
     "shell.execute_reply.started": "2023-08-08T08:22:09.631749Z"
    }
   },
   "outputs": [],
   "source": [
    "submit.iloc[:,1:] = pred\n",
    "submit.head()"
   ]
  },
  {
   "cell_type": "code",
   "execution_count": null,
   "id": "4142f749-f20f-4797-b586-581e5c778297",
   "metadata": {
    "execution": {
     "iopub.status.busy": "2023-08-08T08:22:09.632291Z",
     "iopub.status.idle": "2023-08-08T08:22:09.632812Z",
     "shell.execute_reply": "2023-08-08T08:22:09.632721Z",
     "shell.execute_reply.started": "2023-08-08T08:22:09.632709Z"
    }
   },
   "outputs": [],
   "source": [
    "submit.to_csv('./baseline_submit2.csv', index=False)"
   ]
  },
  {
   "cell_type": "code",
   "execution_count": null,
   "id": "f1f4c18c-8c84-4c69-87da-cd9e21adc48c",
   "metadata": {},
   "outputs": [],
   "source": []
  }
 ],
 "metadata": {
  "kernelspec": {
   "display_name": "Python 3 (ipykernel)",
   "language": "python",
   "name": "python3"
  },
  "language_info": {
   "codemirror_mode": {
    "name": "ipython",
    "version": 3
   },
   "file_extension": ".py",
   "mimetype": "text/x-python",
   "name": "python",
   "nbconvert_exporter": "python",
   "pygments_lexer": "ipython3",
   "version": "3.9.16"
  }
 },
 "nbformat": 4,
 "nbformat_minor": 5
}
